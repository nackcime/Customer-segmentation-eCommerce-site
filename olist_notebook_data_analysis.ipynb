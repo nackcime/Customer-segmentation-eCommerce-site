{
 "cells": [
  {
   "cell_type": "code",
   "execution_count": 1,
   "id": "92ed58ea",
   "metadata": {},
   "outputs": [],
   "source": [
    "import pandas as pd\n",
    "import numpy as np\n",
    "import matplotlib.pyplot as plt\n",
    "import seaborn as sns\n",
    "from scipy import stats"
   ]
  },
  {
   "cell_type": "markdown",
   "id": "e96f7086",
   "metadata": {},
   "source": [
    "# Data loading"
   ]
  },
  {
   "cell_type": "code",
   "execution_count": 2,
   "id": "de71127b",
   "metadata": {},
   "outputs": [],
   "source": [
    "data_customers = pd.read_csv('olist_customers_dataset.csv')\n",
    "data_geolocation = pd.read_csv('olist_geolocation_dataset.csv')\n",
    "data_order_items = pd.read_csv('olist_order_items_dataset.csv')\n",
    "data_order_payments = pd.read_csv('olist_order_payments_dataset.csv')\n",
    "data_order_reviews = pd.read_csv('olist_order_reviews_dataset.csv')\n",
    "data_orders_dataset = pd.read_csv('olist_orders_dataset.csv')\n",
    "data_products_dataset = pd.read_csv('olist_products_dataset.csv')\n",
    "data_sellers_dataset = pd.read_csv('olist_sellers_dataset.csv')\n",
    "data_category_name_translation = pd.read_csv('product_category_name_translation.csv')\n",
    "parse_dates=True"
   ]
  },
  {
   "cell_type": "markdown",
   "id": "fa93413b",
   "metadata": {},
   "source": [
    "# Data analysis"
   ]
  },
  {
   "cell_type": "code",
   "execution_count": 242,
   "id": "12dc2857",
   "metadata": {},
   "outputs": [
    {
     "data": {
      "text/html": [
       "<div>\n",
       "<style scoped>\n",
       "    .dataframe tbody tr th:only-of-type {\n",
       "        vertical-align: middle;\n",
       "    }\n",
       "\n",
       "    .dataframe tbody tr th {\n",
       "        vertical-align: top;\n",
       "    }\n",
       "\n",
       "    .dataframe thead th {\n",
       "        text-align: right;\n",
       "    }\n",
       "</style>\n",
       "<table border=\"1\" class=\"dataframe\">\n",
       "  <thead>\n",
       "    <tr style=\"text-align: right;\">\n",
       "      <th></th>\n",
       "      <th>customer_id</th>\n",
       "      <th>customer_unique_id</th>\n",
       "      <th>customer_zip_code_prefix</th>\n",
       "      <th>customer_city</th>\n",
       "      <th>customer_state</th>\n",
       "    </tr>\n",
       "  </thead>\n",
       "  <tbody>\n",
       "    <tr>\n",
       "      <th>0</th>\n",
       "      <td>06b8999e2fba1a1fbc88172c00ba8bc7</td>\n",
       "      <td>861eff4711a542e4b93843c6dd7febb0</td>\n",
       "      <td>14409</td>\n",
       "      <td>franca</td>\n",
       "      <td>SP</td>\n",
       "    </tr>\n",
       "    <tr>\n",
       "      <th>1</th>\n",
       "      <td>18955e83d337fd6b2def6b18a428ac77</td>\n",
       "      <td>290c77bc529b7ac935b93aa66c333dc3</td>\n",
       "      <td>9790</td>\n",
       "      <td>sao bernardo do campo</td>\n",
       "      <td>SP</td>\n",
       "    </tr>\n",
       "    <tr>\n",
       "      <th>2</th>\n",
       "      <td>4e7b3e00288586ebd08712fdd0374a03</td>\n",
       "      <td>060e732b5b29e8181a18229c7b0b2b5e</td>\n",
       "      <td>1151</td>\n",
       "      <td>sao paulo</td>\n",
       "      <td>SP</td>\n",
       "    </tr>\n",
       "  </tbody>\n",
       "</table>\n",
       "</div>"
      ],
      "text/plain": [
       "                        customer_id                customer_unique_id  \\\n",
       "0  06b8999e2fba1a1fbc88172c00ba8bc7  861eff4711a542e4b93843c6dd7febb0   \n",
       "1  18955e83d337fd6b2def6b18a428ac77  290c77bc529b7ac935b93aa66c333dc3   \n",
       "2  4e7b3e00288586ebd08712fdd0374a03  060e732b5b29e8181a18229c7b0b2b5e   \n",
       "\n",
       "   customer_zip_code_prefix          customer_city customer_state  \n",
       "0                     14409                 franca             SP  \n",
       "1                      9790  sao bernardo do campo             SP  \n",
       "2                      1151              sao paulo             SP  "
      ]
     },
     "execution_count": 242,
     "metadata": {},
     "output_type": "execute_result"
    }
   ],
   "source": [
    "data_customers.head(3)"
   ]
  },
  {
   "cell_type": "code",
   "execution_count": 243,
   "id": "c5704fe2",
   "metadata": {},
   "outputs": [],
   "source": [
    "data_customers.name = 'customers'"
   ]
  },
  {
   "cell_type": "code",
   "execution_count": 244,
   "id": "02a4c7a4",
   "metadata": {},
   "outputs": [
    {
     "data": {
      "text/html": [
       "<div>\n",
       "<style scoped>\n",
       "    .dataframe tbody tr th:only-of-type {\n",
       "        vertical-align: middle;\n",
       "    }\n",
       "\n",
       "    .dataframe tbody tr th {\n",
       "        vertical-align: top;\n",
       "    }\n",
       "\n",
       "    .dataframe thead th {\n",
       "        text-align: right;\n",
       "    }\n",
       "</style>\n",
       "<table border=\"1\" class=\"dataframe\">\n",
       "  <thead>\n",
       "    <tr style=\"text-align: right;\">\n",
       "      <th></th>\n",
       "      <th>geolocation_zip_code_prefix</th>\n",
       "      <th>geolocation_lat</th>\n",
       "      <th>geolocation_lng</th>\n",
       "      <th>geolocation_city</th>\n",
       "      <th>geolocation_state</th>\n",
       "    </tr>\n",
       "  </thead>\n",
       "  <tbody>\n",
       "    <tr>\n",
       "      <th>0</th>\n",
       "      <td>1037</td>\n",
       "      <td>-23.545621</td>\n",
       "      <td>-46.639292</td>\n",
       "      <td>sao paulo</td>\n",
       "      <td>SP</td>\n",
       "    </tr>\n",
       "    <tr>\n",
       "      <th>1</th>\n",
       "      <td>1046</td>\n",
       "      <td>-23.546081</td>\n",
       "      <td>-46.644820</td>\n",
       "      <td>sao paulo</td>\n",
       "      <td>SP</td>\n",
       "    </tr>\n",
       "    <tr>\n",
       "      <th>2</th>\n",
       "      <td>1046</td>\n",
       "      <td>-23.546129</td>\n",
       "      <td>-46.642951</td>\n",
       "      <td>sao paulo</td>\n",
       "      <td>SP</td>\n",
       "    </tr>\n",
       "  </tbody>\n",
       "</table>\n",
       "</div>"
      ],
      "text/plain": [
       "   geolocation_zip_code_prefix  geolocation_lat  geolocation_lng  \\\n",
       "0                         1037       -23.545621       -46.639292   \n",
       "1                         1046       -23.546081       -46.644820   \n",
       "2                         1046       -23.546129       -46.642951   \n",
       "\n",
       "  geolocation_city geolocation_state  \n",
       "0        sao paulo                SP  \n",
       "1        sao paulo                SP  \n",
       "2        sao paulo                SP  "
      ]
     },
     "execution_count": 244,
     "metadata": {},
     "output_type": "execute_result"
    }
   ],
   "source": [
    "data_geolocation.head(3)"
   ]
  },
  {
   "cell_type": "code",
   "execution_count": 245,
   "id": "2ec41a20",
   "metadata": {},
   "outputs": [],
   "source": [
    "data_geolocation.name = 'geolocation'"
   ]
  },
  {
   "cell_type": "code",
   "execution_count": 246,
   "id": "bf5d122c",
   "metadata": {},
   "outputs": [
    {
     "data": {
      "text/html": [
       "<div>\n",
       "<style scoped>\n",
       "    .dataframe tbody tr th:only-of-type {\n",
       "        vertical-align: middle;\n",
       "    }\n",
       "\n",
       "    .dataframe tbody tr th {\n",
       "        vertical-align: top;\n",
       "    }\n",
       "\n",
       "    .dataframe thead th {\n",
       "        text-align: right;\n",
       "    }\n",
       "</style>\n",
       "<table border=\"1\" class=\"dataframe\">\n",
       "  <thead>\n",
       "    <tr style=\"text-align: right;\">\n",
       "      <th></th>\n",
       "      <th>order_id</th>\n",
       "      <th>order_item_id</th>\n",
       "      <th>product_id</th>\n",
       "      <th>seller_id</th>\n",
       "      <th>shipping_limit_date</th>\n",
       "      <th>price</th>\n",
       "      <th>freight_value</th>\n",
       "    </tr>\n",
       "  </thead>\n",
       "  <tbody>\n",
       "    <tr>\n",
       "      <th>0</th>\n",
       "      <td>00010242fe8c5a6d1ba2dd792cb16214</td>\n",
       "      <td>1</td>\n",
       "      <td>4244733e06e7ecb4970a6e2683c13e61</td>\n",
       "      <td>48436dade18ac8b2bce089ec2a041202</td>\n",
       "      <td>2017-09-19 09:45:35</td>\n",
       "      <td>58.9</td>\n",
       "      <td>13.29</td>\n",
       "    </tr>\n",
       "    <tr>\n",
       "      <th>1</th>\n",
       "      <td>00018f77f2f0320c557190d7a144bdd3</td>\n",
       "      <td>1</td>\n",
       "      <td>e5f2d52b802189ee658865ca93d83a8f</td>\n",
       "      <td>dd7ddc04e1b6c2c614352b383efe2d36</td>\n",
       "      <td>2017-05-03 11:05:13</td>\n",
       "      <td>239.9</td>\n",
       "      <td>19.93</td>\n",
       "    </tr>\n",
       "    <tr>\n",
       "      <th>2</th>\n",
       "      <td>000229ec398224ef6ca0657da4fc703e</td>\n",
       "      <td>1</td>\n",
       "      <td>c777355d18b72b67abbeef9df44fd0fd</td>\n",
       "      <td>5b51032eddd242adc84c38acab88f23d</td>\n",
       "      <td>2018-01-18 14:48:30</td>\n",
       "      <td>199.0</td>\n",
       "      <td>17.87</td>\n",
       "    </tr>\n",
       "  </tbody>\n",
       "</table>\n",
       "</div>"
      ],
      "text/plain": [
       "                           order_id  order_item_id  \\\n",
       "0  00010242fe8c5a6d1ba2dd792cb16214              1   \n",
       "1  00018f77f2f0320c557190d7a144bdd3              1   \n",
       "2  000229ec398224ef6ca0657da4fc703e              1   \n",
       "\n",
       "                         product_id                         seller_id  \\\n",
       "0  4244733e06e7ecb4970a6e2683c13e61  48436dade18ac8b2bce089ec2a041202   \n",
       "1  e5f2d52b802189ee658865ca93d83a8f  dd7ddc04e1b6c2c614352b383efe2d36   \n",
       "2  c777355d18b72b67abbeef9df44fd0fd  5b51032eddd242adc84c38acab88f23d   \n",
       "\n",
       "   shipping_limit_date  price  freight_value  \n",
       "0  2017-09-19 09:45:35   58.9          13.29  \n",
       "1  2017-05-03 11:05:13  239.9          19.93  \n",
       "2  2018-01-18 14:48:30  199.0          17.87  "
      ]
     },
     "execution_count": 246,
     "metadata": {},
     "output_type": "execute_result"
    }
   ],
   "source": [
    "data_order_items.head(3)"
   ]
  },
  {
   "cell_type": "code",
   "execution_count": 247,
   "id": "b4d3573e",
   "metadata": {},
   "outputs": [],
   "source": [
    "data_order_items.name = 'order_items'"
   ]
  },
  {
   "cell_type": "code",
   "execution_count": 248,
   "id": "66e12765",
   "metadata": {},
   "outputs": [
    {
     "data": {
      "text/html": [
       "<div>\n",
       "<style scoped>\n",
       "    .dataframe tbody tr th:only-of-type {\n",
       "        vertical-align: middle;\n",
       "    }\n",
       "\n",
       "    .dataframe tbody tr th {\n",
       "        vertical-align: top;\n",
       "    }\n",
       "\n",
       "    .dataframe thead th {\n",
       "        text-align: right;\n",
       "    }\n",
       "</style>\n",
       "<table border=\"1\" class=\"dataframe\">\n",
       "  <thead>\n",
       "    <tr style=\"text-align: right;\">\n",
       "      <th></th>\n",
       "      <th>order_id</th>\n",
       "      <th>payment_sequential</th>\n",
       "      <th>payment_type</th>\n",
       "      <th>payment_installments</th>\n",
       "      <th>payment_value</th>\n",
       "    </tr>\n",
       "  </thead>\n",
       "  <tbody>\n",
       "    <tr>\n",
       "      <th>0</th>\n",
       "      <td>b81ef226f3fe1789b1e8b2acac839d17</td>\n",
       "      <td>1</td>\n",
       "      <td>credit_card</td>\n",
       "      <td>8</td>\n",
       "      <td>99.33</td>\n",
       "    </tr>\n",
       "    <tr>\n",
       "      <th>1</th>\n",
       "      <td>a9810da82917af2d9aefd1278f1dcfa0</td>\n",
       "      <td>1</td>\n",
       "      <td>credit_card</td>\n",
       "      <td>1</td>\n",
       "      <td>24.39</td>\n",
       "    </tr>\n",
       "    <tr>\n",
       "      <th>2</th>\n",
       "      <td>25e8ea4e93396b6fa0d3dd708e76c1bd</td>\n",
       "      <td>1</td>\n",
       "      <td>credit_card</td>\n",
       "      <td>1</td>\n",
       "      <td>65.71</td>\n",
       "    </tr>\n",
       "  </tbody>\n",
       "</table>\n",
       "</div>"
      ],
      "text/plain": [
       "                           order_id  payment_sequential payment_type  \\\n",
       "0  b81ef226f3fe1789b1e8b2acac839d17                   1  credit_card   \n",
       "1  a9810da82917af2d9aefd1278f1dcfa0                   1  credit_card   \n",
       "2  25e8ea4e93396b6fa0d3dd708e76c1bd                   1  credit_card   \n",
       "\n",
       "   payment_installments  payment_value  \n",
       "0                     8          99.33  \n",
       "1                     1          24.39  \n",
       "2                     1          65.71  "
      ]
     },
     "execution_count": 248,
     "metadata": {},
     "output_type": "execute_result"
    }
   ],
   "source": [
    "data_order_payments.head(3)"
   ]
  },
  {
   "cell_type": "code",
   "execution_count": 249,
   "id": "7a50aa6b",
   "metadata": {},
   "outputs": [],
   "source": [
    "data_order_payments.name = 'order_payments'"
   ]
  },
  {
   "cell_type": "code",
   "execution_count": 250,
   "id": "489a343a",
   "metadata": {},
   "outputs": [
    {
     "data": {
      "text/html": [
       "<div>\n",
       "<style scoped>\n",
       "    .dataframe tbody tr th:only-of-type {\n",
       "        vertical-align: middle;\n",
       "    }\n",
       "\n",
       "    .dataframe tbody tr th {\n",
       "        vertical-align: top;\n",
       "    }\n",
       "\n",
       "    .dataframe thead th {\n",
       "        text-align: right;\n",
       "    }\n",
       "</style>\n",
       "<table border=\"1\" class=\"dataframe\">\n",
       "  <thead>\n",
       "    <tr style=\"text-align: right;\">\n",
       "      <th></th>\n",
       "      <th>review_id</th>\n",
       "      <th>order_id</th>\n",
       "      <th>review_score</th>\n",
       "      <th>review_comment_title</th>\n",
       "      <th>review_comment_message</th>\n",
       "      <th>review_creation_date</th>\n",
       "      <th>review_answer_timestamp</th>\n",
       "    </tr>\n",
       "  </thead>\n",
       "  <tbody>\n",
       "    <tr>\n",
       "      <th>0</th>\n",
       "      <td>7bc2406110b926393aa56f80a40eba40</td>\n",
       "      <td>73fc7af87114b39712e6da79b0a377eb</td>\n",
       "      <td>4</td>\n",
       "      <td>NaN</td>\n",
       "      <td>NaN</td>\n",
       "      <td>2018-01-18 00:00:00</td>\n",
       "      <td>2018-01-18 21:46:59</td>\n",
       "    </tr>\n",
       "    <tr>\n",
       "      <th>1</th>\n",
       "      <td>80e641a11e56f04c1ad469d5645fdfde</td>\n",
       "      <td>a548910a1c6147796b98fdf73dbeba33</td>\n",
       "      <td>5</td>\n",
       "      <td>NaN</td>\n",
       "      <td>NaN</td>\n",
       "      <td>2018-03-10 00:00:00</td>\n",
       "      <td>2018-03-11 03:05:13</td>\n",
       "    </tr>\n",
       "    <tr>\n",
       "      <th>2</th>\n",
       "      <td>228ce5500dc1d8e020d8d1322874b6f0</td>\n",
       "      <td>f9e4b658b201a9f2ecdecbb34bed034b</td>\n",
       "      <td>5</td>\n",
       "      <td>NaN</td>\n",
       "      <td>NaN</td>\n",
       "      <td>2018-02-17 00:00:00</td>\n",
       "      <td>2018-02-18 14:36:24</td>\n",
       "    </tr>\n",
       "  </tbody>\n",
       "</table>\n",
       "</div>"
      ],
      "text/plain": [
       "                          review_id                          order_id  \\\n",
       "0  7bc2406110b926393aa56f80a40eba40  73fc7af87114b39712e6da79b0a377eb   \n",
       "1  80e641a11e56f04c1ad469d5645fdfde  a548910a1c6147796b98fdf73dbeba33   \n",
       "2  228ce5500dc1d8e020d8d1322874b6f0  f9e4b658b201a9f2ecdecbb34bed034b   \n",
       "\n",
       "   review_score review_comment_title review_comment_message  \\\n",
       "0             4                  NaN                    NaN   \n",
       "1             5                  NaN                    NaN   \n",
       "2             5                  NaN                    NaN   \n",
       "\n",
       "  review_creation_date review_answer_timestamp  \n",
       "0  2018-01-18 00:00:00     2018-01-18 21:46:59  \n",
       "1  2018-03-10 00:00:00     2018-03-11 03:05:13  \n",
       "2  2018-02-17 00:00:00     2018-02-18 14:36:24  "
      ]
     },
     "execution_count": 250,
     "metadata": {},
     "output_type": "execute_result"
    }
   ],
   "source": [
    "data_order_reviews.head(3)"
   ]
  },
  {
   "cell_type": "code",
   "execution_count": 251,
   "id": "3ff96499",
   "metadata": {},
   "outputs": [],
   "source": [
    "data_order_reviews.name = 'order_reviews'"
   ]
  },
  {
   "cell_type": "code",
   "execution_count": 252,
   "id": "2b58092b",
   "metadata": {},
   "outputs": [
    {
     "data": {
      "text/html": [
       "<div>\n",
       "<style scoped>\n",
       "    .dataframe tbody tr th:only-of-type {\n",
       "        vertical-align: middle;\n",
       "    }\n",
       "\n",
       "    .dataframe tbody tr th {\n",
       "        vertical-align: top;\n",
       "    }\n",
       "\n",
       "    .dataframe thead th {\n",
       "        text-align: right;\n",
       "    }\n",
       "</style>\n",
       "<table border=\"1\" class=\"dataframe\">\n",
       "  <thead>\n",
       "    <tr style=\"text-align: right;\">\n",
       "      <th></th>\n",
       "      <th>order_id</th>\n",
       "      <th>customer_id</th>\n",
       "      <th>order_status</th>\n",
       "      <th>order_purchase_timestamp</th>\n",
       "      <th>order_approved_at</th>\n",
       "      <th>order_delivered_carrier_date</th>\n",
       "      <th>order_delivered_customer_date</th>\n",
       "      <th>order_estimated_delivery_date</th>\n",
       "    </tr>\n",
       "  </thead>\n",
       "  <tbody>\n",
       "    <tr>\n",
       "      <th>0</th>\n",
       "      <td>e481f51cbdc54678b7cc49136f2d6af7</td>\n",
       "      <td>9ef432eb6251297304e76186b10a928d</td>\n",
       "      <td>delivered</td>\n",
       "      <td>2017-10-02 10:56:33</td>\n",
       "      <td>2017-10-02 11:07:15</td>\n",
       "      <td>2017-10-04 19:55:00</td>\n",
       "      <td>2017-10-10 21:25:13</td>\n",
       "      <td>2017-10-18 00:00:00</td>\n",
       "    </tr>\n",
       "    <tr>\n",
       "      <th>1</th>\n",
       "      <td>53cdb2fc8bc7dce0b6741e2150273451</td>\n",
       "      <td>b0830fb4747a6c6d20dea0b8c802d7ef</td>\n",
       "      <td>delivered</td>\n",
       "      <td>2018-07-24 20:41:37</td>\n",
       "      <td>2018-07-26 03:24:27</td>\n",
       "      <td>2018-07-26 14:31:00</td>\n",
       "      <td>2018-08-07 15:27:45</td>\n",
       "      <td>2018-08-13 00:00:00</td>\n",
       "    </tr>\n",
       "    <tr>\n",
       "      <th>2</th>\n",
       "      <td>47770eb9100c2d0c44946d9cf07ec65d</td>\n",
       "      <td>41ce2a54c0b03bf3443c3d931a367089</td>\n",
       "      <td>delivered</td>\n",
       "      <td>2018-08-08 08:38:49</td>\n",
       "      <td>2018-08-08 08:55:23</td>\n",
       "      <td>2018-08-08 13:50:00</td>\n",
       "      <td>2018-08-17 18:06:29</td>\n",
       "      <td>2018-09-04 00:00:00</td>\n",
       "    </tr>\n",
       "  </tbody>\n",
       "</table>\n",
       "</div>"
      ],
      "text/plain": [
       "                           order_id                       customer_id  \\\n",
       "0  e481f51cbdc54678b7cc49136f2d6af7  9ef432eb6251297304e76186b10a928d   \n",
       "1  53cdb2fc8bc7dce0b6741e2150273451  b0830fb4747a6c6d20dea0b8c802d7ef   \n",
       "2  47770eb9100c2d0c44946d9cf07ec65d  41ce2a54c0b03bf3443c3d931a367089   \n",
       "\n",
       "  order_status order_purchase_timestamp    order_approved_at  \\\n",
       "0    delivered      2017-10-02 10:56:33  2017-10-02 11:07:15   \n",
       "1    delivered      2018-07-24 20:41:37  2018-07-26 03:24:27   \n",
       "2    delivered      2018-08-08 08:38:49  2018-08-08 08:55:23   \n",
       "\n",
       "  order_delivered_carrier_date order_delivered_customer_date  \\\n",
       "0          2017-10-04 19:55:00           2017-10-10 21:25:13   \n",
       "1          2018-07-26 14:31:00           2018-08-07 15:27:45   \n",
       "2          2018-08-08 13:50:00           2018-08-17 18:06:29   \n",
       "\n",
       "  order_estimated_delivery_date  \n",
       "0           2017-10-18 00:00:00  \n",
       "1           2018-08-13 00:00:00  \n",
       "2           2018-09-04 00:00:00  "
      ]
     },
     "execution_count": 252,
     "metadata": {},
     "output_type": "execute_result"
    }
   ],
   "source": [
    "data_orders_dataset.head(3)"
   ]
  },
  {
   "cell_type": "code",
   "execution_count": 253,
   "id": "5d053544",
   "metadata": {},
   "outputs": [],
   "source": [
    "data_orders_dataset.name = 'orders_dataset'"
   ]
  },
  {
   "cell_type": "code",
   "execution_count": 254,
   "id": "e3b3b6a3",
   "metadata": {},
   "outputs": [
    {
     "data": {
      "text/html": [
       "<div>\n",
       "<style scoped>\n",
       "    .dataframe tbody tr th:only-of-type {\n",
       "        vertical-align: middle;\n",
       "    }\n",
       "\n",
       "    .dataframe tbody tr th {\n",
       "        vertical-align: top;\n",
       "    }\n",
       "\n",
       "    .dataframe thead th {\n",
       "        text-align: right;\n",
       "    }\n",
       "</style>\n",
       "<table border=\"1\" class=\"dataframe\">\n",
       "  <thead>\n",
       "    <tr style=\"text-align: right;\">\n",
       "      <th></th>\n",
       "      <th>product_id</th>\n",
       "      <th>product_category_name</th>\n",
       "      <th>product_name_lenght</th>\n",
       "      <th>product_description_lenght</th>\n",
       "      <th>product_photos_qty</th>\n",
       "      <th>product_weight_g</th>\n",
       "      <th>product_length_cm</th>\n",
       "      <th>product_height_cm</th>\n",
       "      <th>product_width_cm</th>\n",
       "    </tr>\n",
       "  </thead>\n",
       "  <tbody>\n",
       "    <tr>\n",
       "      <th>0</th>\n",
       "      <td>1e9e8ef04dbcff4541ed26657ea517e5</td>\n",
       "      <td>perfumaria</td>\n",
       "      <td>40.0</td>\n",
       "      <td>287.0</td>\n",
       "      <td>1.0</td>\n",
       "      <td>225.0</td>\n",
       "      <td>16.0</td>\n",
       "      <td>10.0</td>\n",
       "      <td>14.0</td>\n",
       "    </tr>\n",
       "    <tr>\n",
       "      <th>1</th>\n",
       "      <td>3aa071139cb16b67ca9e5dea641aaa2f</td>\n",
       "      <td>artes</td>\n",
       "      <td>44.0</td>\n",
       "      <td>276.0</td>\n",
       "      <td>1.0</td>\n",
       "      <td>1000.0</td>\n",
       "      <td>30.0</td>\n",
       "      <td>18.0</td>\n",
       "      <td>20.0</td>\n",
       "    </tr>\n",
       "    <tr>\n",
       "      <th>2</th>\n",
       "      <td>96bd76ec8810374ed1b65e291975717f</td>\n",
       "      <td>esporte_lazer</td>\n",
       "      <td>46.0</td>\n",
       "      <td>250.0</td>\n",
       "      <td>1.0</td>\n",
       "      <td>154.0</td>\n",
       "      <td>18.0</td>\n",
       "      <td>9.0</td>\n",
       "      <td>15.0</td>\n",
       "    </tr>\n",
       "  </tbody>\n",
       "</table>\n",
       "</div>"
      ],
      "text/plain": [
       "                         product_id product_category_name  \\\n",
       "0  1e9e8ef04dbcff4541ed26657ea517e5            perfumaria   \n",
       "1  3aa071139cb16b67ca9e5dea641aaa2f                 artes   \n",
       "2  96bd76ec8810374ed1b65e291975717f         esporte_lazer   \n",
       "\n",
       "   product_name_lenght  product_description_lenght  product_photos_qty  \\\n",
       "0                 40.0                       287.0                 1.0   \n",
       "1                 44.0                       276.0                 1.0   \n",
       "2                 46.0                       250.0                 1.0   \n",
       "\n",
       "   product_weight_g  product_length_cm  product_height_cm  product_width_cm  \n",
       "0             225.0               16.0               10.0              14.0  \n",
       "1            1000.0               30.0               18.0              20.0  \n",
       "2             154.0               18.0                9.0              15.0  "
      ]
     },
     "execution_count": 254,
     "metadata": {},
     "output_type": "execute_result"
    }
   ],
   "source": [
    "data_products_dataset.head(3)"
   ]
  },
  {
   "cell_type": "code",
   "execution_count": 255,
   "id": "2259522b",
   "metadata": {},
   "outputs": [],
   "source": [
    "data_products_dataset.name = 'products_dataset'"
   ]
  },
  {
   "cell_type": "code",
   "execution_count": 256,
   "id": "40264fc5",
   "metadata": {},
   "outputs": [
    {
     "data": {
      "text/html": [
       "<div>\n",
       "<style scoped>\n",
       "    .dataframe tbody tr th:only-of-type {\n",
       "        vertical-align: middle;\n",
       "    }\n",
       "\n",
       "    .dataframe tbody tr th {\n",
       "        vertical-align: top;\n",
       "    }\n",
       "\n",
       "    .dataframe thead th {\n",
       "        text-align: right;\n",
       "    }\n",
       "</style>\n",
       "<table border=\"1\" class=\"dataframe\">\n",
       "  <thead>\n",
       "    <tr style=\"text-align: right;\">\n",
       "      <th></th>\n",
       "      <th>seller_id</th>\n",
       "      <th>seller_zip_code_prefix</th>\n",
       "      <th>seller_city</th>\n",
       "      <th>seller_state</th>\n",
       "    </tr>\n",
       "  </thead>\n",
       "  <tbody>\n",
       "    <tr>\n",
       "      <th>0</th>\n",
       "      <td>3442f8959a84dea7ee197c632cb2df15</td>\n",
       "      <td>13023</td>\n",
       "      <td>campinas</td>\n",
       "      <td>SP</td>\n",
       "    </tr>\n",
       "    <tr>\n",
       "      <th>1</th>\n",
       "      <td>d1b65fc7debc3361ea86b5f14c68d2e2</td>\n",
       "      <td>13844</td>\n",
       "      <td>mogi guacu</td>\n",
       "      <td>SP</td>\n",
       "    </tr>\n",
       "    <tr>\n",
       "      <th>2</th>\n",
       "      <td>ce3ad9de960102d0677a81f5d0bb7b2d</td>\n",
       "      <td>20031</td>\n",
       "      <td>rio de janeiro</td>\n",
       "      <td>RJ</td>\n",
       "    </tr>\n",
       "  </tbody>\n",
       "</table>\n",
       "</div>"
      ],
      "text/plain": [
       "                          seller_id  seller_zip_code_prefix     seller_city  \\\n",
       "0  3442f8959a84dea7ee197c632cb2df15                   13023        campinas   \n",
       "1  d1b65fc7debc3361ea86b5f14c68d2e2                   13844      mogi guacu   \n",
       "2  ce3ad9de960102d0677a81f5d0bb7b2d                   20031  rio de janeiro   \n",
       "\n",
       "  seller_state  \n",
       "0           SP  \n",
       "1           SP  \n",
       "2           RJ  "
      ]
     },
     "execution_count": 256,
     "metadata": {},
     "output_type": "execute_result"
    }
   ],
   "source": [
    "data_sellers_dataset.head(3)"
   ]
  },
  {
   "cell_type": "code",
   "execution_count": 257,
   "id": "33034466",
   "metadata": {},
   "outputs": [],
   "source": [
    "data_sellers_dataset.name = 'sellers_dataset'"
   ]
  },
  {
   "cell_type": "code",
   "execution_count": 258,
   "id": "e3e1d887",
   "metadata": {},
   "outputs": [
    {
     "data": {
      "text/html": [
       "<div>\n",
       "<style scoped>\n",
       "    .dataframe tbody tr th:only-of-type {\n",
       "        vertical-align: middle;\n",
       "    }\n",
       "\n",
       "    .dataframe tbody tr th {\n",
       "        vertical-align: top;\n",
       "    }\n",
       "\n",
       "    .dataframe thead th {\n",
       "        text-align: right;\n",
       "    }\n",
       "</style>\n",
       "<table border=\"1\" class=\"dataframe\">\n",
       "  <thead>\n",
       "    <tr style=\"text-align: right;\">\n",
       "      <th></th>\n",
       "      <th>product_category_name</th>\n",
       "      <th>product_category_name_english</th>\n",
       "    </tr>\n",
       "  </thead>\n",
       "  <tbody>\n",
       "    <tr>\n",
       "      <th>0</th>\n",
       "      <td>beleza_saude</td>\n",
       "      <td>health_beauty</td>\n",
       "    </tr>\n",
       "    <tr>\n",
       "      <th>1</th>\n",
       "      <td>informatica_acessorios</td>\n",
       "      <td>computers_accessories</td>\n",
       "    </tr>\n",
       "    <tr>\n",
       "      <th>2</th>\n",
       "      <td>automotivo</td>\n",
       "      <td>auto</td>\n",
       "    </tr>\n",
       "  </tbody>\n",
       "</table>\n",
       "</div>"
      ],
      "text/plain": [
       "    product_category_name product_category_name_english\n",
       "0            beleza_saude                 health_beauty\n",
       "1  informatica_acessorios         computers_accessories\n",
       "2              automotivo                          auto"
      ]
     },
     "execution_count": 258,
     "metadata": {},
     "output_type": "execute_result"
    }
   ],
   "source": [
    "data_category_name_translation.head(3)"
   ]
  },
  {
   "cell_type": "code",
   "execution_count": 259,
   "id": "f429ab44",
   "metadata": {},
   "outputs": [],
   "source": [
    "data_category_name_translation.name = 'category_name_translation'"
   ]
  },
  {
   "cell_type": "markdown",
   "id": "bebe4a9d",
   "metadata": {},
   "source": [
    "### Shape"
   ]
  },
  {
   "cell_type": "code",
   "execution_count": 260,
   "id": "a2df6115",
   "metadata": {},
   "outputs": [],
   "source": [
    "list_data = [data_customers,data_geolocation,data_order_items,data_order_payments,data_order_reviews,data_orders_dataset,data_products_dataset,data_sellers_dataset,data_category_name_translation]"
   ]
  },
  {
   "cell_type": "code",
   "execution_count": 261,
   "id": "c185b7a2",
   "metadata": {},
   "outputs": [
    {
     "name": "stdout",
     "output_type": "stream",
     "text": [
      "customers : (99441, 5)\n",
      "geolocation : (1000163, 5)\n",
      "order_items : (112650, 7)\n",
      "order_payments : (103886, 5)\n",
      "order_reviews : (99224, 7)\n",
      "orders_dataset : (99441, 8)\n",
      "products_dataset : (32951, 9)\n",
      "sellers_dataset : (3095, 4)\n",
      "category_name_translation : (71, 2)\n"
     ]
    }
   ],
   "source": [
    "for i in list_data:\n",
    "    print(i.name+\" : \"+str(i.shape))"
   ]
  },
  {
   "cell_type": "markdown",
   "id": "e96b758e",
   "metadata": {},
   "source": [
    "### Type of features"
   ]
  },
  {
   "cell_type": "code",
   "execution_count": 262,
   "id": "52e78ba8",
   "metadata": {},
   "outputs": [
    {
     "name": "stdout",
     "output_type": "stream",
     "text": [
      "customer_id                 object\n",
      "customer_unique_id          object\n",
      "customer_zip_code_prefix     int64\n",
      "customer_city               object\n",
      "customer_state              object\n",
      "dtype: object\n",
      "geolocation_zip_code_prefix      int64\n",
      "geolocation_lat                float64\n",
      "geolocation_lng                float64\n",
      "geolocation_city                object\n",
      "geolocation_state               object\n",
      "dtype: object\n",
      "order_id                object\n",
      "order_item_id            int64\n",
      "product_id              object\n",
      "seller_id               object\n",
      "shipping_limit_date     object\n",
      "price                  float64\n",
      "freight_value          float64\n",
      "dtype: object\n",
      "order_id                 object\n",
      "payment_sequential        int64\n",
      "payment_type             object\n",
      "payment_installments      int64\n",
      "payment_value           float64\n",
      "dtype: object\n",
      "review_id                  object\n",
      "order_id                   object\n",
      "review_score                int64\n",
      "review_comment_title       object\n",
      "review_comment_message     object\n",
      "review_creation_date       object\n",
      "review_answer_timestamp    object\n",
      "dtype: object\n",
      "order_id                         object\n",
      "customer_id                      object\n",
      "order_status                     object\n",
      "order_purchase_timestamp         object\n",
      "order_approved_at                object\n",
      "order_delivered_carrier_date     object\n",
      "order_delivered_customer_date    object\n",
      "order_estimated_delivery_date    object\n",
      "dtype: object\n",
      "product_id                     object\n",
      "product_category_name          object\n",
      "product_name_lenght           float64\n",
      "product_description_lenght    float64\n",
      "product_photos_qty            float64\n",
      "product_weight_g              float64\n",
      "product_length_cm             float64\n",
      "product_height_cm             float64\n",
      "product_width_cm              float64\n",
      "dtype: object\n",
      "seller_id                 object\n",
      "seller_zip_code_prefix     int64\n",
      "seller_city               object\n",
      "seller_state              object\n",
      "dtype: object\n",
      "product_category_name            object\n",
      "product_category_name_english    object\n",
      "dtype: object\n"
     ]
    }
   ],
   "source": [
    "for i in list_data:\n",
    "    print(i.dtypes)"
   ]
  },
  {
   "cell_type": "markdown",
   "id": "b92ae5c8",
   "metadata": {},
   "source": [
    "### NAN Analysis"
   ]
  },
  {
   "cell_type": "code",
   "execution_count": 263,
   "id": "703e9810",
   "metadata": {
    "scrolled": true
   },
   "outputs": [
    {
     "name": "stdout",
     "output_type": "stream",
     "text": [
      "customer_id                 0.0\n",
      "customer_unique_id          0.0\n",
      "customer_zip_code_prefix    0.0\n",
      "customer_city               0.0\n",
      "customer_state              0.0\n",
      "dtype: float64\n",
      "geolocation_zip_code_prefix    0.0\n",
      "geolocation_lat                0.0\n",
      "geolocation_lng                0.0\n",
      "geolocation_city               0.0\n",
      "geolocation_state              0.0\n",
      "dtype: float64\n",
      "order_id               0.0\n",
      "order_item_id          0.0\n",
      "product_id             0.0\n",
      "seller_id              0.0\n",
      "shipping_limit_date    0.0\n",
      "price                  0.0\n",
      "freight_value          0.0\n",
      "dtype: float64\n",
      "order_id                0.0\n",
      "payment_sequential      0.0\n",
      "payment_type            0.0\n",
      "payment_installments    0.0\n",
      "payment_value           0.0\n",
      "dtype: float64\n",
      "review_id                  0.000000\n",
      "order_id                   0.000000\n",
      "review_score               0.000000\n",
      "review_comment_title       0.883415\n",
      "review_comment_message     0.587025\n",
      "review_creation_date       0.000000\n",
      "review_answer_timestamp    0.000000\n",
      "dtype: float64\n",
      "order_id                         0.000000\n",
      "customer_id                      0.000000\n",
      "order_status                     0.000000\n",
      "order_purchase_timestamp         0.000000\n",
      "order_approved_at                0.001609\n",
      "order_delivered_carrier_date     0.017930\n",
      "order_delivered_customer_date    0.029817\n",
      "order_estimated_delivery_date    0.000000\n",
      "dtype: float64\n",
      "product_id                    0.000000\n",
      "product_category_name         0.018512\n",
      "product_name_lenght           0.018512\n",
      "product_description_lenght    0.018512\n",
      "product_photos_qty            0.018512\n",
      "product_weight_g              0.000061\n",
      "product_length_cm             0.000061\n",
      "product_height_cm             0.000061\n",
      "product_width_cm              0.000061\n",
      "dtype: float64\n",
      "seller_id                 0.0\n",
      "seller_zip_code_prefix    0.0\n",
      "seller_city               0.0\n",
      "seller_state              0.0\n",
      "dtype: float64\n",
      "product_category_name            0.0\n",
      "product_category_name_english    0.0\n",
      "dtype: float64\n"
     ]
    }
   ],
   "source": [
    "for i in list_data:\n",
    "    print(i.isna().mean())"
   ]
  },
  {
   "cell_type": "markdown",
   "id": "2c821957",
   "metadata": {},
   "source": [
    "# Cleaning"
   ]
  },
  {
   "cell_type": "markdown",
   "id": "b6ee2b6d",
   "metadata": {},
   "source": [
    "# Pousser l'analyse sur les commentaire"
   ]
  },
  {
   "cell_type": "code",
   "execution_count": 264,
   "id": "b5b46f4a",
   "metadata": {},
   "outputs": [
    {
     "data": {
      "text/plain": [
       "review_id                      0\n",
       "order_id                       0\n",
       "review_score                   0\n",
       "review_comment_title       87656\n",
       "review_comment_message     58247\n",
       "review_creation_date           0\n",
       "review_answer_timestamp        0\n",
       "dtype: int64"
      ]
     },
     "execution_count": 264,
     "metadata": {},
     "output_type": "execute_result"
    }
   ],
   "source": [
    "#Verification moyenne NAN\n",
    "data_order_reviews.isna().sum()"
   ]
  },
  {
   "cell_type": "markdown",
   "id": "ac7a12ca",
   "metadata": {},
   "source": [
    "Replace NAN value by \"No comment\" in data_order_reviews dataframe"
   ]
  },
  {
   "cell_type": "code",
   "execution_count": 265,
   "id": "6dd5f646",
   "metadata": {},
   "outputs": [],
   "source": [
    "data_order_reviews['review_comment_message'] = data_order_reviews['review_comment_message'].fillna(\"No comment\")"
   ]
  },
  {
   "cell_type": "code",
   "execution_count": 266,
   "id": "0561548c",
   "metadata": {},
   "outputs": [],
   "source": [
    "data_order_reviews['review_comment_title'] = data_order_reviews['review_comment_title'].fillna(\"No comment\")"
   ]
  },
  {
   "cell_type": "code",
   "execution_count": 267,
   "id": "8018ca2b",
   "metadata": {},
   "outputs": [
    {
     "data": {
      "text/plain": [
       "review_id                  0\n",
       "order_id                   0\n",
       "review_score               0\n",
       "review_comment_title       0\n",
       "review_comment_message     0\n",
       "review_creation_date       0\n",
       "review_answer_timestamp    0\n",
       "dtype: int64"
      ]
     },
     "execution_count": 267,
     "metadata": {},
     "output_type": "execute_result"
    }
   ],
   "source": [
    "#Verification moyenne NAN\n",
    "data_order_reviews.isna().sum()"
   ]
  },
  {
   "cell_type": "code",
   "execution_count": 268,
   "id": "748525a3",
   "metadata": {},
   "outputs": [
    {
     "data": {
      "text/plain": [
       "order_id                            0\n",
       "customer_id                         0\n",
       "order_status                        0\n",
       "order_purchase_timestamp            0\n",
       "order_approved_at                 160\n",
       "order_delivered_carrier_date     1783\n",
       "order_delivered_customer_date    2965\n",
       "order_estimated_delivery_date       0\n",
       "dtype: int64"
      ]
     },
     "execution_count": 268,
     "metadata": {},
     "output_type": "execute_result"
    }
   ],
   "source": [
    "#Verification moyenne NAN\n",
    "data_orders_dataset.isna().sum()"
   ]
  },
  {
   "cell_type": "code",
   "execution_count": 269,
   "id": "303dec4f",
   "metadata": {},
   "outputs": [
    {
     "data": {
      "text/plain": [
       "product_id                      0\n",
       "product_category_name         610\n",
       "product_name_lenght           610\n",
       "product_description_lenght    610\n",
       "product_photos_qty            610\n",
       "product_weight_g                2\n",
       "product_length_cm               2\n",
       "product_height_cm               2\n",
       "product_width_cm                2\n",
       "dtype: int64"
      ]
     },
     "execution_count": 269,
     "metadata": {},
     "output_type": "execute_result"
    }
   ],
   "source": [
    "#Verification moyenne NAN\n",
    "data_products_dataset.isna().sum()"
   ]
  },
  {
   "cell_type": "markdown",
   "id": "206f8340",
   "metadata": {},
   "source": [
    "### Duplicates"
   ]
  },
  {
   "cell_type": "markdown",
   "id": "cc648125",
   "metadata": {},
   "source": [
    "Print of the duplicates of all Dataframes, we see that data_geolocation has duplicates"
   ]
  },
  {
   "cell_type": "code",
   "execution_count": 270,
   "id": "4c323045",
   "metadata": {},
   "outputs": [
    {
     "name": "stdout",
     "output_type": "stream",
     "text": [
      "customers : 0\n",
      "geolocation : 261831\n",
      "order_items : 0\n",
      "order_payments : 0\n",
      "order_reviews : 0\n",
      "orders_dataset : 0\n",
      "products_dataset : 0\n",
      "sellers_dataset : 0\n",
      "category_name_translation : 0\n"
     ]
    }
   ],
   "source": [
    "# Afficher nom colonne \n",
    "for i in list_data:\n",
    "    print(i.name+\" : \"+str(i.duplicated().sum()))"
   ]
  },
  {
   "cell_type": "markdown",
   "id": "f5751c5e",
   "metadata": {},
   "source": [
    "We remove the duplicates in geolocation Dataframe"
   ]
  },
  {
   "cell_type": "code",
   "execution_count": 271,
   "id": "5773684e",
   "metadata": {},
   "outputs": [],
   "source": [
    "data_geolocation_cleaned = data_geolocation.drop_duplicates()"
   ]
  },
  {
   "cell_type": "code",
   "execution_count": 272,
   "id": "6f1bc5d1",
   "metadata": {},
   "outputs": [
    {
     "data": {
      "text/plain": [
       "(1000163, 5)"
      ]
     },
     "execution_count": 272,
     "metadata": {},
     "output_type": "execute_result"
    }
   ],
   "source": [
    "data_geolocation.shape"
   ]
  },
  {
   "cell_type": "code",
   "execution_count": 273,
   "id": "0627d820",
   "metadata": {},
   "outputs": [
    {
     "data": {
      "text/plain": [
       "(738332, 5)"
      ]
     },
     "execution_count": 273,
     "metadata": {},
     "output_type": "execute_result"
    }
   ],
   "source": [
    "data_geolocation_cleaned.shape"
   ]
  },
  {
   "cell_type": "markdown",
   "id": "e39872be",
   "metadata": {},
   "source": [
    "Join all Dataframes with feature order_id"
   ]
  },
  {
   "cell_type": "code",
   "execution_count": 274,
   "id": "022d6124",
   "metadata": {},
   "outputs": [],
   "source": [
    "df_1 = pd.merge(data_order_items[['order_id','order_item_id','product_id','price']], data_order_payments[['order_id','payment_type','payment_value']], on='order_id', how='inner')"
   ]
  },
  {
   "cell_type": "code",
   "execution_count": 275,
   "id": "9af7eb8b",
   "metadata": {},
   "outputs": [
    {
     "data": {
      "text/plain": [
       "order_id         0.0\n",
       "order_item_id    0.0\n",
       "product_id       0.0\n",
       "price            0.0\n",
       "payment_type     0.0\n",
       "payment_value    0.0\n",
       "dtype: float64"
      ]
     },
     "execution_count": 275,
     "metadata": {},
     "output_type": "execute_result"
    }
   ],
   "source": [
    "#Verification moyenne NAN\n",
    "df_1.isna().mean()"
   ]
  },
  {
   "cell_type": "code",
   "execution_count": 276,
   "id": "bdb021eb",
   "metadata": {},
   "outputs": [
    {
     "data": {
      "text/plain": [
       "Index(['review_id', 'order_id', 'review_score', 'review_comment_title',\n",
       "       'review_comment_message', 'review_creation_date',\n",
       "       'review_answer_timestamp'],\n",
       "      dtype='object')"
      ]
     },
     "execution_count": 276,
     "metadata": {},
     "output_type": "execute_result"
    }
   ],
   "source": [
    "data_order_reviews.columns"
   ]
  },
  {
   "cell_type": "code",
   "execution_count": 277,
   "id": "e4be0a13",
   "metadata": {},
   "outputs": [],
   "source": [
    "df_2 = pd.merge(df_1, data_order_reviews[['order_id','review_comment_message','review_creation_date','review_score']], on='order_id', how='inner')"
   ]
  },
  {
   "cell_type": "code",
   "execution_count": 278,
   "id": "5791c1c6",
   "metadata": {},
   "outputs": [
    {
     "data": {
      "text/plain": [
       "order_id                  0.0\n",
       "order_item_id             0.0\n",
       "product_id                0.0\n",
       "price                     0.0\n",
       "payment_type              0.0\n",
       "payment_value             0.0\n",
       "review_comment_message    0.0\n",
       "review_creation_date      0.0\n",
       "review_score              0.0\n",
       "dtype: float64"
      ]
     },
     "execution_count": 278,
     "metadata": {},
     "output_type": "execute_result"
    }
   ],
   "source": [
    "#Verification moyenne NAN\n",
    "df_2.isna().mean()"
   ]
  },
  {
   "cell_type": "code",
   "execution_count": 279,
   "id": "1fc0d3ed",
   "metadata": {},
   "outputs": [],
   "source": [
    "df_3 = pd.merge(df_2, data_orders_dataset[['order_id','customer_id','order_purchase_timestamp']].dropna(), on='order_id', how='inner')"
   ]
  },
  {
   "cell_type": "code",
   "execution_count": 280,
   "id": "6dba8492",
   "metadata": {},
   "outputs": [
    {
     "data": {
      "text/plain": [
       "order_id                    0.0\n",
       "order_item_id               0.0\n",
       "product_id                  0.0\n",
       "price                       0.0\n",
       "payment_type                0.0\n",
       "payment_value               0.0\n",
       "review_comment_message      0.0\n",
       "review_creation_date        0.0\n",
       "review_score                0.0\n",
       "customer_id                 0.0\n",
       "order_purchase_timestamp    0.0\n",
       "dtype: float64"
      ]
     },
     "execution_count": 280,
     "metadata": {},
     "output_type": "execute_result"
    }
   ],
   "source": [
    "#Verification moyenne NAN\n",
    "df_3.isna().mean()"
   ]
  },
  {
   "cell_type": "code",
   "execution_count": 281,
   "id": "38e97c0f",
   "metadata": {},
   "outputs": [],
   "source": [
    "df_4 = pd.merge(df_3, data_customers[['customer_id','customer_unique_id','customer_city','customer_state']], on='customer_id', how='inner')"
   ]
  },
  {
   "cell_type": "code",
   "execution_count": 282,
   "id": "437d5f0f",
   "metadata": {},
   "outputs": [
    {
     "data": {
      "text/plain": [
       "order_id                    0.0\n",
       "order_item_id               0.0\n",
       "product_id                  0.0\n",
       "price                       0.0\n",
       "payment_type                0.0\n",
       "payment_value               0.0\n",
       "review_comment_message      0.0\n",
       "review_creation_date        0.0\n",
       "review_score                0.0\n",
       "customer_id                 0.0\n",
       "order_purchase_timestamp    0.0\n",
       "customer_unique_id          0.0\n",
       "customer_city               0.0\n",
       "customer_state              0.0\n",
       "dtype: float64"
      ]
     },
     "execution_count": 282,
     "metadata": {},
     "output_type": "execute_result"
    }
   ],
   "source": [
    "#Verification moyenne NAN\n",
    "df_4.isna().mean()"
   ]
  },
  {
   "cell_type": "code",
   "execution_count": 283,
   "id": "d18fb82f",
   "metadata": {},
   "outputs": [],
   "source": [
    "df_5 = pd.merge(df_4, data_products_dataset[['product_id','product_category_name','product_weight_g']].dropna(), on='product_id', how='inner')"
   ]
  },
  {
   "cell_type": "code",
   "execution_count": 284,
   "id": "456927eb",
   "metadata": {},
   "outputs": [
    {
     "data": {
      "text/plain": [
       "order_id                    0.0\n",
       "order_item_id               0.0\n",
       "product_id                  0.0\n",
       "price                       0.0\n",
       "payment_type                0.0\n",
       "payment_value               0.0\n",
       "review_comment_message      0.0\n",
       "review_creation_date        0.0\n",
       "review_score                0.0\n",
       "customer_id                 0.0\n",
       "order_purchase_timestamp    0.0\n",
       "customer_unique_id          0.0\n",
       "customer_city               0.0\n",
       "customer_state              0.0\n",
       "product_category_name       0.0\n",
       "product_weight_g            0.0\n",
       "dtype: float64"
      ]
     },
     "execution_count": 284,
     "metadata": {},
     "output_type": "execute_result"
    }
   ],
   "source": [
    "#Verification moyenne NAN\n",
    "df_5.isna().mean()"
   ]
  },
  {
   "cell_type": "markdown",
   "id": "82c2ebe0",
   "metadata": {},
   "source": [
    "to add if needed"
   ]
  },
  {
   "cell_type": "code",
   "execution_count": 285,
   "id": "2b78b580",
   "metadata": {},
   "outputs": [],
   "source": [
    "#df_6 = pd.merge(df_5, data_sellers_dataset, on='seller_id', how='inner')"
   ]
  },
  {
   "cell_type": "code",
   "execution_count": 286,
   "id": "bcb1f32a",
   "metadata": {},
   "outputs": [],
   "source": [
    "#Verification moyenne NAN\n",
    "#df_6.isna().mean()"
   ]
  },
  {
   "cell_type": "code",
   "execution_count": 287,
   "id": "382fa273",
   "metadata": {},
   "outputs": [],
   "source": [
    "#df_6.shape"
   ]
  },
  {
   "cell_type": "code",
   "execution_count": 288,
   "id": "95f5c97a",
   "metadata": {},
   "outputs": [],
   "source": [
    "#df_7 = pd.merge(df_6, data_category_name_translation, on='product_category_name', how='inner')"
   ]
  },
  {
   "cell_type": "code",
   "execution_count": 289,
   "id": "0799e4ab",
   "metadata": {},
   "outputs": [],
   "source": [
    "#df_7.isna().mean()"
   ]
  },
  {
   "cell_type": "code",
   "execution_count": 290,
   "id": "60932e90",
   "metadata": {},
   "outputs": [],
   "source": [
    "#data = pd.merge(df_7, data_geolocation_cleaned, how='left', left_on='customer_zip_code_prefix', right_on='geolocation_zip_code_prefix')"
   ]
  },
  {
   "cell_type": "code",
   "execution_count": 291,
   "id": "978eb1ae",
   "metadata": {},
   "outputs": [],
   "source": [
    "#data.isna().mean()"
   ]
  },
  {
   "cell_type": "code",
   "execution_count": 292,
   "id": "8f845fa0",
   "metadata": {},
   "outputs": [],
   "source": [
    "#data_df = data.dropna()\n",
    "#df_all = data.dropna()"
   ]
  },
  {
   "cell_type": "code",
   "execution_count": 293,
   "id": "72f88626",
   "metadata": {},
   "outputs": [],
   "source": [
    "#df_all.shape"
   ]
  },
  {
   "cell_type": "code",
   "execution_count": 294,
   "id": "080ef18c",
   "metadata": {},
   "outputs": [
    {
     "data": {
      "text/plain": [
       "order_id                    0.0\n",
       "order_item_id               0.0\n",
       "product_id                  0.0\n",
       "price                       0.0\n",
       "payment_type                0.0\n",
       "payment_value               0.0\n",
       "review_comment_message      0.0\n",
       "review_creation_date        0.0\n",
       "review_score                0.0\n",
       "customer_id                 0.0\n",
       "order_purchase_timestamp    0.0\n",
       "customer_unique_id          0.0\n",
       "customer_city               0.0\n",
       "customer_state              0.0\n",
       "product_category_name       0.0\n",
       "product_weight_g            0.0\n",
       "dtype: float64"
      ]
     },
     "execution_count": 294,
     "metadata": {},
     "output_type": "execute_result"
    }
   ],
   "source": [
    "df_5.isna().mean()"
   ]
  },
  {
   "cell_type": "code",
   "execution_count": 295,
   "id": "d8660f4d",
   "metadata": {},
   "outputs": [
    {
     "data": {
      "text/plain": [
       "(115633, 16)"
      ]
     },
     "execution_count": 295,
     "metadata": {},
     "output_type": "execute_result"
    }
   ],
   "source": [
    "df_5.shape"
   ]
  },
  {
   "cell_type": "markdown",
   "id": "6d802662",
   "metadata": {},
   "source": [
    "#### Drop Duplicates"
   ]
  },
  {
   "cell_type": "code",
   "execution_count": 296,
   "id": "e08266ba",
   "metadata": {},
   "outputs": [],
   "source": [
    "df_6 = df_5.drop_duplicates()"
   ]
  },
  {
   "cell_type": "code",
   "execution_count": 297,
   "id": "cf2a0d5b",
   "metadata": {},
   "outputs": [
    {
     "data": {
      "text/plain": [
       "(114874, 16)"
      ]
     },
     "execution_count": 297,
     "metadata": {},
     "output_type": "execute_result"
    }
   ],
   "source": [
    "df_6.shape"
   ]
  },
  {
   "cell_type": "markdown",
   "id": "bb9ebc6a",
   "metadata": {},
   "source": [
    "# Types cleaning"
   ]
  },
  {
   "cell_type": "code",
   "execution_count": 298,
   "id": "ca7b2c82",
   "metadata": {},
   "outputs": [],
   "source": [
    "#we create a copy to enable the propagation of the modification after with we modify df_all\n",
    "df_all = df_6.copy()"
   ]
  },
  {
   "cell_type": "code",
   "execution_count": 299,
   "id": "ef245ff3",
   "metadata": {},
   "outputs": [
    {
     "data": {
      "text/plain": [
       "(114874, 16)"
      ]
     },
     "execution_count": 299,
     "metadata": {},
     "output_type": "execute_result"
    }
   ],
   "source": [
    "df_all.shape"
   ]
  },
  {
   "cell_type": "code",
   "execution_count": 300,
   "id": "baa2a25c",
   "metadata": {},
   "outputs": [],
   "source": [
    "#We change the type date\n",
    "df_all['order_purchase_timestamp'] = df_all['order_purchase_timestamp'].astype('datetime64[ns]')\n",
    "#df_all['order_purchase_timestamp'] = pd.to_datetime(df_all['order_purchase_timestamp'])"
   ]
  },
  {
   "cell_type": "markdown",
   "id": "46e1fdc6",
   "metadata": {},
   "source": [
    "List of columns with numerical type"
   ]
  },
  {
   "cell_type": "code",
   "execution_count": 301,
   "id": "71acef0d",
   "metadata": {},
   "outputs": [],
   "source": [
    "#listNumerical = df_all.select_dtypes(include=['float64','int64']).columns"
   ]
  },
  {
   "cell_type": "code",
   "execution_count": 302,
   "id": "73c77c4d",
   "metadata": {},
   "outputs": [],
   "source": [
    "df_all_filtered= df_all.copy()"
   ]
  },
  {
   "cell_type": "markdown",
   "id": "bbd4bb8a",
   "metadata": {},
   "source": [
    "# Distribution Analysis"
   ]
  },
  {
   "cell_type": "markdown",
   "id": "06038d9b",
   "metadata": {},
   "source": [
    "### Short customers analysis"
   ]
  },
  {
   "cell_type": "code",
   "execution_count": 303,
   "id": "613a1e40",
   "metadata": {},
   "outputs": [
    {
     "data": {
      "text/plain": [
       "<AxesSubplot:title={'center':'Distribution of the price'}, xlabel='price', ylabel='Count'>"
      ]
     },
     "execution_count": 303,
     "metadata": {},
     "output_type": "execute_result"
    },
    {
     "data": {
      "image/png": "[encoded data removed]",
      "text/plain": [
       "<Figure size 432x288 with 1 Axes>"
      ]
     },
     "metadata": {
      "needs_background": "light"
     },
     "output_type": "display_data"
    }
   ],
   "source": [
    "plt.title('Distribution of the price')\n",
    "sns.histplot(df_all_filtered['price'], bins=40, kde=True)\n",
    "#plt.savefig('priceDistribution.png')"
   ]
  },
  {
   "cell_type": "code",
   "execution_count": 304,
   "id": "efd23378",
   "metadata": {},
   "outputs": [
    {
     "data": {
      "text/plain": [
       "<AxesSubplot:title={'center':'Distribution of the price'}, xlabel='product_category_name', ylabel='Count'>"
      ]
     },
     "execution_count": 304,
     "metadata": {},
     "output_type": "execute_result"
    },
    {
     "data": {
      "image/png": "[encoded data removed]",
      "text/plain": [
       "<Figure size 432x288 with 1 Axes>"
      ]
     },
     "metadata": {
      "needs_background": "light"
     },
     "output_type": "display_data"
    }
   ],
   "source": [
    "plt.title('Distribution of the price')\n",
    "sns.histplot(df_all_filtered['product_category_name'], bins=40, kde=True)"
   ]
  },
  {
   "cell_type": "code",
   "execution_count": 305,
   "id": "19e1a5e2",
   "metadata": {},
   "outputs": [
    {
     "data": {
      "text/plain": [
       "<AxesSubplot:title={'center':'Distribution of the customers by states'}, xlabel='customer_state', ylabel='Count'>"
      ]
     },
     "execution_count": 305,
     "metadata": {},
     "output_type": "execute_result"
    },
    {
     "data": {
      "image/png": "[encoded data removed]",
      "text/plain": [
       "<Figure size 432x288 with 1 Axes>"
      ]
     },
     "metadata": {
      "needs_background": "light"
     },
     "output_type": "display_data"
    }
   ],
   "source": [
    "plt.title('Distribution of the customers by states')\n",
    "sns.histplot(df_all_filtered['customer_state'], bins=40, kde=True)"
   ]
  },
  {
   "cell_type": "markdown",
   "id": "e2765357",
   "metadata": {},
   "source": [
    "Money spend by client"
   ]
  },
  {
   "cell_type": "markdown",
   "id": "7869631d",
   "metadata": {},
   "source": [
    "Few clients spend the most of the money"
   ]
  },
  {
   "cell_type": "code",
   "execution_count": 307,
   "id": "caa53c20",
   "metadata": {},
   "outputs": [],
   "source": [
    "df_all_filtered_step = df_all_filtered.sort_values(by=['order_purchase_timestamp', 'customer_unique_id'])"
   ]
  },
  {
   "cell_type": "code",
   "execution_count": 331,
   "id": "c1b80872",
   "metadata": {},
   "outputs": [],
   "source": [
    "df_all_filtered_step = df_all_filtered_step.assign(NumberOfOrder=df_all_filtered_step.drop_duplicates([\"order_purchase_timestamp\", \"customer_unique_id\"]) \\\n",
    "        .groupby([\"customer_unique_id\"]).cumcount()+1).ffill()"
   ]
  },
  {
   "cell_type": "code",
   "execution_count": 332,
   "id": "2d9670bd",
   "metadata": {},
   "outputs": [],
   "source": [
    "moneySpendbyClient = df_all_filtered_step[['customer_unique_id','price']].groupby('customer_unique_id').mean()"
   ]
  },
  {
   "cell_type": "code",
   "execution_count": 333,
   "id": "238c0817",
   "metadata": {},
   "outputs": [
    {
     "data": {
      "text/plain": [
       "<AxesSubplot:title={'center':'Distribution of money spend by client'}, ylabel='Count'>"
      ]
     },
     "execution_count": 333,
     "metadata": {},
     "output_type": "execute_result"
    },
    {
     "data": {
      "image/png": "[encoded data removed]",
      "text/plain": [
       "<Figure size 432x288 with 1 Axes>"
      ]
     },
     "metadata": {
      "needs_background": "light"
     },
     "output_type": "display_data"
    }
   ],
   "source": [
    "plt.title('Distribution of money spend by client')\n",
    "sns.histplot(moneySpendbyClient, bins=60, kde=True)"
   ]
  },
  {
   "cell_type": "code",
   "execution_count": 334,
   "id": "a9d0f656",
   "metadata": {},
   "outputs": [],
   "source": [
    "numberOfCommandbyClient = df_all_filtered_step[['customer_unique_id','NumberOfOrder']].groupby('customer_unique_id').sum()"
   ]
  },
  {
   "cell_type": "code",
   "execution_count": 335,
   "id": "4e0bf650",
   "metadata": {},
   "outputs": [
    {
     "data": {
      "text/plain": [
       "<AxesSubplot:title={'center':'Distribution of money spend by client'}, ylabel='Count'>"
      ]
     },
     "execution_count": 335,
     "metadata": {},
     "output_type": "execute_result"
    },
    {
     "data": {
      "image/png": "[encoded data removed]",
      "text/plain": [
       "<Figure size 432x288 with 1 Axes>"
      ]
     },
     "metadata": {
      "needs_background": "light"
     },
     "output_type": "display_data"
    }
   ],
   "source": [
    "plt.title('Distribution of money spend by client')\n",
    "sns.histplot(numberOfCommandbyClient, bins=80, kde=True)"
   ]
  },
  {
   "cell_type": "code",
   "execution_count": 336,
   "id": "3d5cde9d",
   "metadata": {},
   "outputs": [],
   "source": [
    "numberOfCommandbyClient_detail = df_all_filtered_step[['customer_unique_id','NumberOfOrder']].groupby('customer_unique_id')"
   ]
  },
  {
   "cell_type": "code",
   "execution_count": 337,
   "id": "e96421e1",
   "metadata": {},
   "outputs": [],
   "source": [
    "numberOfCommandbyClient_filtered = numberOfCommandbyClient_detail.filter(lambda x: x['NumberOfOrder'].sum() == 2)"
   ]
  },
  {
   "cell_type": "markdown",
   "id": "c2a613f5",
   "metadata": {},
   "source": [
    "Number of client with more than one purchase"
   ]
  },
  {
   "cell_type": "code",
   "execution_count": 338,
   "id": "ac4e156d",
   "metadata": {},
   "outputs": [
    {
     "data": {
      "text/plain": [
       "8826"
      ]
     },
     "execution_count": 338,
     "metadata": {},
     "output_type": "execute_result"
    }
   ],
   "source": [
    "numberOfCommandbyClient_filtered[['customer_unique_id']].nunique()[0]"
   ]
  },
  {
   "cell_type": "markdown",
   "id": "0bfc0ce3",
   "metadata": {},
   "source": [
    "List of client with more than one purchase"
   ]
  },
  {
   "cell_type": "code",
   "execution_count": 339,
   "id": "ccb4135d",
   "metadata": {},
   "outputs": [],
   "source": [
    "listActiveClient = numberOfCommandbyClient_filtered['customer_unique_id'].unique().tolist()"
   ]
  },
  {
   "cell_type": "markdown",
   "id": "d484fa5c",
   "metadata": {},
   "source": [
    "Percentage of client with more than one purchase"
   ]
  },
  {
   "cell_type": "code",
   "execution_count": 340,
   "id": "b6247a58",
   "metadata": {},
   "outputs": [
    {
     "data": {
      "text/plain": [
       "0.09448161430177167"
      ]
     },
     "execution_count": 340,
     "metadata": {},
     "output_type": "execute_result"
    }
   ],
   "source": [
    "numberOfCommandbyClient_filtered[['customer_unique_id']].nunique()[0]/df_all_filtered[['customer_unique_id']].nunique()[0]"
   ]
  },
  {
   "cell_type": "markdown",
   "id": "157d704b",
   "metadata": {},
   "source": [
    "The list of the client that buy the most"
   ]
  },
  {
   "cell_type": "code",
   "execution_count": 318,
   "id": "e85ff951",
   "metadata": {},
   "outputs": [
    {
     "data": {
      "text/plain": [
       "array(['b7d76e111c89f7ebf14761390f0f7d17',\n",
       "       'f176923a0a4ab546c7287791ccb82193',\n",
       "       'a9530b74fe56ca4be9e5f2c7e7c4175a', ...,\n",
       "       'e58697e3a253c253e1582f8c4f4c54ff',\n",
       "       '9dfcc502727549f99c9f73dbd28b35e9',\n",
       "       '5c58de6fb80e93396e2f35642666b693'], dtype=object)"
      ]
     },
     "execution_count": 318,
     "metadata": {},
     "output_type": "execute_result"
    }
   ],
   "source": [
    "numberOfCommandbyClient_filtered['customer_unique_id'].unique()"
   ]
  },
  {
   "cell_type": "markdown",
   "id": "158ed24b",
   "metadata": {},
   "source": [
    "### DataFrame : Data_customers analysis"
   ]
  },
  {
   "cell_type": "code",
   "execution_count": 319,
   "id": "2b121dfa",
   "metadata": {},
   "outputs": [
    {
     "data": {
      "text/plain": [
       "8d50f5eadf50201ccdcedfb9e2ac8455    17\n",
       "3e43e6105506432c953e165fb2acf44c     9\n",
       "1b6c7548a2a1f9037c1fd3ddfed95f33     7\n",
       "ca77025e7201e3b30c44b472ff346268     7\n",
       "6469f99c1f9dfae7733b25662e7f1782     7\n",
       "                                    ..\n",
       "370cd3b09ea745fe047fd11db7430441     2\n",
       "d7c6bdf20c4ec9c9cda815dde58e778a     2\n",
       "a366793a4999f8cc135855c4dd347421     2\n",
       "156283b6ca35ef976a0265903145fd5e     2\n",
       "d83257348027bd8c59a228cc034de5e3     2\n",
       "Name: customer_unique_id, Length: 2997, dtype: int64"
      ]
     },
     "execution_count": 319,
     "metadata": {},
     "output_type": "execute_result"
    }
   ],
   "source": [
    "data_customers['customer_unique_id'].value_counts()[data_customers['customer_unique_id'].value_counts()> 1]"
   ]
  },
  {
   "cell_type": "markdown",
   "id": "f4c696fc",
   "metadata": {},
   "source": [
    "Customers that bought more than one item"
   ]
  },
  {
   "cell_type": "code",
   "execution_count": 320,
   "id": "2bd6f62c",
   "metadata": {},
   "outputs": [
    {
     "data": {
      "text/html": [
       "<div>\n",
       "<style scoped>\n",
       "    .dataframe tbody tr th:only-of-type {\n",
       "        vertical-align: middle;\n",
       "    }\n",
       "\n",
       "    .dataframe tbody tr th {\n",
       "        vertical-align: top;\n",
       "    }\n",
       "\n",
       "    .dataframe thead th {\n",
       "        text-align: right;\n",
       "    }\n",
       "</style>\n",
       "<table border=\"1\" class=\"dataframe\">\n",
       "  <thead>\n",
       "    <tr style=\"text-align: right;\">\n",
       "      <th></th>\n",
       "      <th>customer_id</th>\n",
       "      <th>customer_unique_id</th>\n",
       "      <th>customer_zip_code_prefix</th>\n",
       "      <th>customer_city</th>\n",
       "      <th>customer_state</th>\n",
       "    </tr>\n",
       "  </thead>\n",
       "  <tbody>\n",
       "    <tr>\n",
       "      <th>5</th>\n",
       "      <td>879864dab9bc3047522c92c82e1212b8</td>\n",
       "      <td>4c93744516667ad3b8f1fb645a3116a4</td>\n",
       "      <td>89254</td>\n",
       "      <td>jaragua do sul</td>\n",
       "      <td>SC</td>\n",
       "    </tr>\n",
       "    <tr>\n",
       "      <th>8</th>\n",
       "      <td>5adf08e34b2e993982a47070956c5c65</td>\n",
       "      <td>1175e95fb47ddff9de6b2b06188f7e0d</td>\n",
       "      <td>81560</td>\n",
       "      <td>curitiba</td>\n",
       "      <td>PR</td>\n",
       "    </tr>\n",
       "    <tr>\n",
       "      <th>13</th>\n",
       "      <td>eabebad39a88bb6f5b52376faec28612</td>\n",
       "      <td>295c05e81917928d76245e842748184d</td>\n",
       "      <td>5704</td>\n",
       "      <td>sao paulo</td>\n",
       "      <td>SP</td>\n",
       "    </tr>\n",
       "    <tr>\n",
       "      <th>32</th>\n",
       "      <td>2d5831cb2dff7cdefba62e950ae3dc7b</td>\n",
       "      <td>e9dd12dca17352644a959d9dea133935</td>\n",
       "      <td>42800</td>\n",
       "      <td>camacari</td>\n",
       "      <td>BA</td>\n",
       "    </tr>\n",
       "    <tr>\n",
       "      <th>33</th>\n",
       "      <td>b2bed119388167a954382cca36c4777f</td>\n",
       "      <td>e079b18794454de9d2be5c12b4392294</td>\n",
       "      <td>27525</td>\n",
       "      <td>resende</td>\n",
       "      <td>RJ</td>\n",
       "    </tr>\n",
       "    <tr>\n",
       "      <th>...</th>\n",
       "      <td>...</td>\n",
       "      <td>...</td>\n",
       "      <td>...</td>\n",
       "      <td>...</td>\n",
       "      <td>...</td>\n",
       "    </tr>\n",
       "    <tr>\n",
       "      <th>99324</th>\n",
       "      <td>5b46a0d983eec8c97363bea78d4a69dd</td>\n",
       "      <td>8bab3162259edfaadd1ea2e1fe7f58dc</td>\n",
       "      <td>31565</td>\n",
       "      <td>belo horizonte</td>\n",
       "      <td>MG</td>\n",
       "    </tr>\n",
       "    <tr>\n",
       "      <th>99327</th>\n",
       "      <td>c1affa46f9f3b514555259049a0307b9</td>\n",
       "      <td>12ab9334b1240d6d037f2b0102a49571</td>\n",
       "      <td>38050</td>\n",
       "      <td>uberaba</td>\n",
       "      <td>MG</td>\n",
       "    </tr>\n",
       "    <tr>\n",
       "      <th>99336</th>\n",
       "      <td>ebf46ff530343a129926adc1f831dea4</td>\n",
       "      <td>0ee57f62666561b72f2ceacad0230cbf</td>\n",
       "      <td>9530</td>\n",
       "      <td>sao caetano do sul</td>\n",
       "      <td>SP</td>\n",
       "    </tr>\n",
       "    <tr>\n",
       "      <th>99353</th>\n",
       "      <td>282fbce48e4d2077aad602dd125c9225</td>\n",
       "      <td>0ceb502fc33a2ad327b08288c5310e2e</td>\n",
       "      <td>29134</td>\n",
       "      <td>viana</td>\n",
       "      <td>ES</td>\n",
       "    </tr>\n",
       "    <tr>\n",
       "      <th>99406</th>\n",
       "      <td>d9110683c7a282144e9fc97660026a28</td>\n",
       "      <td>5cbfdb85ec130898108b32c50d619c39</td>\n",
       "      <td>74980</td>\n",
       "      <td>aparecida de goiania</td>\n",
       "      <td>GO</td>\n",
       "    </tr>\n",
       "  </tbody>\n",
       "</table>\n",
       "<p>6342 rows × 5 columns</p>\n",
       "</div>"
      ],
      "text/plain": [
       "                            customer_id                customer_unique_id  \\\n",
       "5      879864dab9bc3047522c92c82e1212b8  4c93744516667ad3b8f1fb645a3116a4   \n",
       "8      5adf08e34b2e993982a47070956c5c65  1175e95fb47ddff9de6b2b06188f7e0d   \n",
       "13     eabebad39a88bb6f5b52376faec28612  295c05e81917928d76245e842748184d   \n",
       "32     2d5831cb2dff7cdefba62e950ae3dc7b  e9dd12dca17352644a959d9dea133935   \n",
       "33     b2bed119388167a954382cca36c4777f  e079b18794454de9d2be5c12b4392294   \n",
       "...                                 ...                               ...   \n",
       "99324  5b46a0d983eec8c97363bea78d4a69dd  8bab3162259edfaadd1ea2e1fe7f58dc   \n",
       "99327  c1affa46f9f3b514555259049a0307b9  12ab9334b1240d6d037f2b0102a49571   \n",
       "99336  ebf46ff530343a129926adc1f831dea4  0ee57f62666561b72f2ceacad0230cbf   \n",
       "99353  282fbce48e4d2077aad602dd125c9225  0ceb502fc33a2ad327b08288c5310e2e   \n",
       "99406  d9110683c7a282144e9fc97660026a28  5cbfdb85ec130898108b32c50d619c39   \n",
       "\n",
       "       customer_zip_code_prefix         customer_city customer_state  \n",
       "5                         89254        jaragua do sul             SC  \n",
       "8                         81560              curitiba             PR  \n",
       "13                         5704             sao paulo             SP  \n",
       "32                        42800              camacari             BA  \n",
       "33                        27525               resende             RJ  \n",
       "...                         ...                   ...            ...  \n",
       "99324                     31565        belo horizonte             MG  \n",
       "99327                     38050               uberaba             MG  \n",
       "99336                      9530    sao caetano do sul             SP  \n",
       "99353                     29134                 viana             ES  \n",
       "99406                     74980  aparecida de goiania             GO  \n",
       "\n",
       "[6342 rows x 5 columns]"
      ]
     },
     "execution_count": 320,
     "metadata": {},
     "output_type": "execute_result"
    }
   ],
   "source": [
    "data_customers.groupby('customer_unique_id').filter(lambda x: len(x) > 1)"
   ]
  },
  {
   "cell_type": "markdown",
   "id": "68842547",
   "metadata": {},
   "source": [
    "##### We want to compare the number of customer with the number of transaction"
   ]
  },
  {
   "cell_type": "markdown",
   "id": "41c5dac9",
   "metadata": {},
   "source": [
    "#####  We almost have the same amount of customers and transactions"
   ]
  },
  {
   "cell_type": "markdown",
   "id": "25a0a6c2",
   "metadata": {},
   "source": [
    "Number of customers"
   ]
  },
  {
   "cell_type": "code",
   "execution_count": 321,
   "id": "a821b180",
   "metadata": {},
   "outputs": [
    {
     "data": {
      "text/plain": [
       "96096"
      ]
     },
     "execution_count": 321,
     "metadata": {},
     "output_type": "execute_result"
    }
   ],
   "source": [
    "data_customers['customer_unique_id'].nunique()"
   ]
  },
  {
   "cell_type": "markdown",
   "id": "55319abb",
   "metadata": {},
   "source": [
    "Numbers of orders"
   ]
  },
  {
   "cell_type": "code",
   "execution_count": 322,
   "id": "948c031b",
   "metadata": {},
   "outputs": [
    {
     "data": {
      "text/plain": [
       "99440"
      ]
     },
     "execution_count": 322,
     "metadata": {},
     "output_type": "execute_result"
    }
   ],
   "source": [
    "data_order_payments['order_id'].nunique()"
   ]
  },
  {
   "cell_type": "markdown",
   "id": "b7958c2e",
   "metadata": {},
   "source": [
    "Type of payment by order"
   ]
  },
  {
   "cell_type": "code",
   "execution_count": 323,
   "id": "30fce849",
   "metadata": {},
   "outputs": [],
   "source": [
    "payment_by_order = df_all_filtered.groupby(['payment_type']).count()['order_id'].sort_values(ascending=False)"
   ]
  },
  {
   "cell_type": "code",
   "execution_count": 324,
   "id": "eb97d3d7",
   "metadata": {},
   "outputs": [
    {
     "data": {
      "text/plain": [
       "<BarContainer object of 4 artists>"
      ]
     },
     "execution_count": 324,
     "metadata": {},
     "output_type": "execute_result"
    },
    {
     "data": {
      "image/png": "[encoded data removed]",
      "text/plain": [
       "<Figure size 432x288 with 1 Axes>"
      ]
     },
     "metadata": {
      "needs_background": "light"
     },
     "output_type": "display_data"
    }
   ],
   "source": [
    "plt.title('Payment by order')\n",
    "plt.bar(payment_by_order.index, payment_by_order.values)\n",
    "#plt.savefig('payment_by_order.png')"
   ]
  },
  {
   "cell_type": "markdown",
   "id": "93dd42ed",
   "metadata": {},
   "source": [
    "# Feature Engineering"
   ]
  },
  {
   "cell_type": "code",
   "execution_count": 325,
   "id": "f677d132",
   "metadata": {},
   "outputs": [],
   "source": [
    "#data_orders_dataset1 = data_orders_dataset[['customer_id','order_purchase_timestamp']].copy()"
   ]
  },
  {
   "cell_type": "code",
   "execution_count": 326,
   "id": "51bb33e5",
   "metadata": {},
   "outputs": [],
   "source": [
    "#data_orders_dataset1['order_purchase_timestamp'] = data_orders_dataset1['order_purchase_timestamp'].astype('datetime64[ns]')"
   ]
  },
  {
   "cell_type": "code",
   "execution_count": 327,
   "id": "7fdb39e9",
   "metadata": {},
   "outputs": [],
   "source": [
    "# Hour of purchase bought by customer\n",
    "#data_orders_dataset1['Hour_order_purchase'] = data_orders_dataset1['order_purchase_timestamp'].apply(lambda x: x.hour)"
   ]
  },
  {
   "cell_type": "code",
   "execution_count": 328,
   "id": "4796a3ec",
   "metadata": {},
   "outputs": [],
   "source": [
    "# Day of purchase bought by customer\n",
    "#data_orders_dataset1['Day_order_purchase'] = data_orders_dataset1['order_purchase_timestamp'].apply(lambda x: x.day_name())"
   ]
  },
  {
   "cell_type": "markdown",
   "id": "2e81dd9c",
   "metadata": {},
   "source": [
    "Week of order (week or week-end)"
   ]
  },
  {
   "cell_type": "code",
   "execution_count": 329,
   "id": "97268d3c",
   "metadata": {},
   "outputs": [],
   "source": [
    "#data_orders_dataset1['isWeek_of_order_purchase'] = data_orders_dataset1['order_purchase_timestamp'].apply(lambda x: np.is_busday(x.date())).astype(int).replace(['True', 'False'],[1,0])"
   ]
  },
  {
   "cell_type": "code",
   "execution_count": 330,
   "id": "b8ed06d4",
   "metadata": {},
   "outputs": [],
   "source": [
    "#data_orders_dataset2 = data_orders_dataset1.drop('order_purchase_timestamp', axis=1)"
   ]
  },
  {
   "cell_type": "code",
   "execution_count": 341,
   "id": "a94a9d12",
   "metadata": {},
   "outputs": [],
   "source": [
    "#Recency, Frequency and Monetary\n",
    "rfm = df_all_filtered.groupby('customer_unique_id').agg({'order_purchase_timestamp': lambda x: (x.max() - x.min()).days,\n",
    "'order_id': lambda x: len(x),\n",
    "'price': lambda x: x.sum(),\n",
    "'payment_value': lambda x: x.max(),\n",
    "'product_weight_g': lambda x : x.mean(),\n",
    "'review_score': lambda x : x.mean(), #Mean review score\n",
    "}).reset_index()"
   ]
  },
  {
   "cell_type": "markdown",
   "id": "87fcaaa8",
   "metadata": {},
   "source": [
    "We give a name to the columns"
   ]
  },
  {
   "cell_type": "code",
   "execution_count": 342,
   "id": "a4339fc4",
   "metadata": {},
   "outputs": [],
   "source": [
    "rfm.columns=['customer_unique_id','R','F','M','MaxSpentbyCustomers','product_weightMeanbyCustomer','MeanReviewScore']"
   ]
  },
  {
   "cell_type": "code",
   "execution_count": 343,
   "id": "43854f60",
   "metadata": {},
   "outputs": [
    {
     "data": {
      "text/plain": [
       "93415"
      ]
     },
     "execution_count": 343,
     "metadata": {},
     "output_type": "execute_result"
    }
   ],
   "source": [
    "rfm['customer_unique_id'].nunique()"
   ]
  },
  {
   "cell_type": "markdown",
   "id": "60cf7776",
   "metadata": {},
   "source": [
    "# Univarate Analysis"
   ]
  },
  {
   "cell_type": "code",
   "execution_count": 3,
   "id": "6dc4c6ef",
   "metadata": {},
   "outputs": [],
   "source": [
    "rfm = pd.read_csv('rfm_final.csv')"
   ]
  },
  {
   "cell_type": "markdown",
   "id": "92a27dbd",
   "metadata": {},
   "source": [
    "### Recency"
   ]
  },
  {
   "cell_type": "code",
   "execution_count": 8,
   "id": "f8cf029b",
   "metadata": {},
   "outputs": [
    {
     "data": {
      "text/plain": [
       "count    96737.000000\n",
       "mean         5.712323\n",
       "std         37.226804\n",
       "min          0.000000\n",
       "25%          0.000000\n",
       "50%          0.000000\n",
       "75%          0.000000\n",
       "max        633.000000\n",
       "Name: R, dtype: float64"
      ]
     },
     "execution_count": 8,
     "metadata": {},
     "output_type": "execute_result"
    }
   ],
   "source": [
    "rfm['R'].describe()"
   ]
  },
  {
   "cell_type": "code",
   "execution_count": 9,
   "id": "9a122c99",
   "metadata": {},
   "outputs": [
    {
     "data": {
      "text/plain": [
       "<AxesSubplot:title={'center':'Distribution of recency'}, xlabel='R', ylabel='Count'>"
      ]
     },
     "execution_count": 9,
     "metadata": {},
     "output_type": "execute_result"
    },
    {
     "data": {
      "image/png": "[encoded data removed]",
      "text/plain": [
       "<Figure size 432x288 with 1 Axes>"
      ]
     },
     "metadata": {
      "needs_background": "light"
     },
     "output_type": "display_data"
    }
   ],
   "source": [
    "plt.title('Distribution of recency')\n",
    "sns.histplot(data=rfm, x=\"R\", bins=40, kde=True)"
   ]
  },
  {
   "cell_type": "code",
   "execution_count": 12,
   "id": "ea4e72f7",
   "metadata": {},
   "outputs": [
    {
     "data": {
      "text/plain": [
       "Text(0.5, 1.0, 'Boxplot recency')"
      ]
     },
     "execution_count": 12,
     "metadata": {},
     "output_type": "execute_result"
    },
    {
     "data": {
      "image/png": "[encoded data removed]",
      "text/plain": [
       "<Figure size 432x1440 with 1 Axes>"
      ]
     },
     "metadata": {
      "needs_background": "light"
     },
     "output_type": "display_data"
    }
   ],
   "source": [
    "plt.figure(figsize = (6,20))\n",
    "plt.boxplot(rfm['R'], patch_artist = True, showmeans=True)\n",
    "#plt.ylim(-3,60)\n",
    "plt.title('Boxplot recency')\n",
    "#plt.savefig('boxplot_recency.png')"
   ]
  },
  {
   "cell_type": "markdown",
   "id": "fca93582",
   "metadata": {},
   "source": [
    "### Monetary"
   ]
  },
  {
   "cell_type": "code",
   "execution_count": 13,
   "id": "1b1c0e20",
   "metadata": {},
   "outputs": [
    {
     "data": {
      "text/plain": [
       "count    96737.000000\n",
       "mean       153.799091\n",
       "std        247.113506\n",
       "min          0.850000\n",
       "25%         49.000000\n",
       "50%         91.450000\n",
       "75%        168.480000\n",
       "max      13440.000000\n",
       "Name: M, dtype: float64"
      ]
     },
     "execution_count": 13,
     "metadata": {},
     "output_type": "execute_result"
    }
   ],
   "source": [
    "rfm['M'].describe()"
   ]
  },
  {
   "cell_type": "code",
   "execution_count": 14,
   "id": "37e110c6",
   "metadata": {},
   "outputs": [
    {
     "data": {
      "text/plain": [
       "<AxesSubplot:title={'center':'Distribution of Monetary'}, xlabel='M', ylabel='Count'>"
      ]
     },
     "execution_count": 14,
     "metadata": {},
     "output_type": "execute_result"
    },
    {
     "data": {
      "image/png": "[encoded data removed]",
      "text/plain": [
       "<Figure size 432x288 with 1 Axes>"
      ]
     },
     "metadata": {
      "needs_background": "light"
     },
     "output_type": "display_data"
    }
   ],
   "source": [
    "plt.title('Distribution of Monetary')\n",
    "sns.histplot(data=rfm, x=\"M\", bins=40, kde=True)"
   ]
  },
  {
   "cell_type": "code",
   "execution_count": 15,
   "id": "698c066c",
   "metadata": {},
   "outputs": [
    {
     "data": {
      "text/plain": [
       "Text(0.5, 1.0, 'Boxplot monetary')"
      ]
     },
     "execution_count": 15,
     "metadata": {},
     "output_type": "execute_result"
    },
    {
     "data": {
      "image/png": "[encoded data removed]",
      "text/plain": [
       "<Figure size 432x1440 with 1 Axes>"
      ]
     },
     "metadata": {
      "needs_background": "light"
     },
     "output_type": "display_data"
    }
   ],
   "source": [
    "plt.figure(figsize = (6,20))\n",
    "plt.boxplot(rfm['M'], patch_artist = True, showmeans=True)\n",
    "#plt.ylim(-3,60)\n",
    "plt.title('Boxplot monetary')\n",
    "#plt.savefig('boxplot_monetary.png')"
   ]
  },
  {
   "cell_type": "markdown",
   "id": "cfcf3ba8",
   "metadata": {},
   "source": [
    "### Frequency"
   ]
  },
  {
   "cell_type": "code",
   "execution_count": 16,
   "id": "748bbb01",
   "metadata": {},
   "outputs": [
    {
     "data": {
      "text/plain": [
       "count    96737.000000\n",
       "mean         1.293280\n",
       "std          0.933503\n",
       "min          1.000000\n",
       "25%          1.000000\n",
       "50%          1.000000\n",
       "75%          1.000000\n",
       "max         35.000000\n",
       "Name: F, dtype: float64"
      ]
     },
     "execution_count": 16,
     "metadata": {},
     "output_type": "execute_result"
    }
   ],
   "source": [
    "rfm['F'].describe()"
   ]
  },
  {
   "cell_type": "code",
   "execution_count": 19,
   "id": "edbcefca",
   "metadata": {},
   "outputs": [
    {
     "data": {
      "text/plain": [
       "<AxesSubplot:title={'center':'Distribution of Frequency'}, xlabel='F', ylabel='Count'>"
      ]
     },
     "execution_count": 19,
     "metadata": {},
     "output_type": "execute_result"
    },
    {
     "data": {
      "image/png": "[encoded data removed]",
      "text/plain": [
       "<Figure size 432x288 with 1 Axes>"
      ]
     },
     "metadata": {
      "needs_background": "light"
     },
     "output_type": "display_data"
    }
   ],
   "source": [
    "plt.title('Distribution of Frequency')\n",
    "sns.histplot(data=rfm, x=\"F\", bins=40, kde=True)"
   ]
  },
  {
   "cell_type": "code",
   "execution_count": 21,
   "id": "3a92720b",
   "metadata": {},
   "outputs": [
    {
     "data": {
      "text/plain": [
       "Text(0.5, 1.0, 'Boxplot Frequency')"
      ]
     },
     "execution_count": 21,
     "metadata": {},
     "output_type": "execute_result"
    },
    {
     "data": {
      "image/png": "[encoded data removed]",
      "text/plain": [
       "<Figure size 432x1440 with 1 Axes>"
      ]
     },
     "metadata": {
      "needs_background": "light"
     },
     "output_type": "display_data"
    }
   ],
   "source": [
    "plt.figure(figsize = (6,20))\n",
    "plt.boxplot(rfm['M'], patch_artist = True, showmeans=True)\n",
    "#plt.ylim(-3,60)\n",
    "plt.title('Boxplot Frequency')\n",
    "#plt.savefig('boxplot_frequency.png')"
   ]
  },
  {
   "cell_type": "markdown",
   "id": "42159f70",
   "metadata": {},
   "source": [
    "### MeanReviewScore"
   ]
  },
  {
   "cell_type": "code",
   "execution_count": 22,
   "id": "4e81d552",
   "metadata": {},
   "outputs": [
    {
     "data": {
      "text/plain": [
       "count    96737.000000\n",
       "mean         4.105685\n",
       "std          1.318843\n",
       "min          1.000000\n",
       "25%          4.000000\n",
       "50%          5.000000\n",
       "75%          5.000000\n",
       "max          5.000000\n",
       "Name: MeanReviewScore, dtype: float64"
      ]
     },
     "execution_count": 22,
     "metadata": {},
     "output_type": "execute_result"
    }
   ],
   "source": [
    "rfm['MeanReviewScore'].describe()"
   ]
  },
  {
   "cell_type": "code",
   "execution_count": 23,
   "id": "aa019935",
   "metadata": {},
   "outputs": [
    {
     "data": {
      "text/plain": [
       "<AxesSubplot:title={'center':'Distribution of MeanReviewScore'}, xlabel='MeanReviewScore', ylabel='Count'>"
      ]
     },
     "execution_count": 23,
     "metadata": {},
     "output_type": "execute_result"
    },
    {
     "data": {
      "image/png": "[encoded data removed]",
      "text/plain": [
       "<Figure size 432x288 with 1 Axes>"
      ]
     },
     "metadata": {
      "needs_background": "light"
     },
     "output_type": "display_data"
    }
   ],
   "source": [
    "plt.title('Distribution of MeanReviewScore')\n",
    "sns.histplot(data=rfm, x=\"MeanReviewScore\", bins=40, kde=True)"
   ]
  },
  {
   "cell_type": "code",
   "execution_count": 24,
   "id": "8b46a018",
   "metadata": {},
   "outputs": [
    {
     "data": {
      "text/plain": [
       "Text(0.5, 1.0, 'Boxplot MeanReviewScore')"
      ]
     },
     "execution_count": 24,
     "metadata": {},
     "output_type": "execute_result"
    },
    {
     "data": {
      "image/png": "[encoded data removed]",
      "text/plain": [
       "<Figure size 432x1440 with 1 Axes>"
      ]
     },
     "metadata": {
      "needs_background": "light"
     },
     "output_type": "display_data"
    }
   ],
   "source": [
    "plt.figure(figsize = (6,20))\n",
    "plt.boxplot(rfm['MeanReviewScore'], patch_artist = True, showmeans=True)\n",
    "#plt.ylim(-3,60)\n",
    "plt.title('Boxplot MeanReviewScore')\n",
    "#plt.savefig('boxplot_frequency.png')"
   ]
  },
  {
   "cell_type": "markdown",
   "id": "3726de95",
   "metadata": {},
   "source": [
    "# Multivariate Analysis"
   ]
  },
  {
   "cell_type": "code",
   "execution_count": 31,
   "id": "a0ed7473",
   "metadata": {},
   "outputs": [
    {
     "data": {
      "text/plain": [
       "Text(0.5, 1.0, 'Scatter plot of Recency and Frequency')"
      ]
     },
     "execution_count": 31,
     "metadata": {},
     "output_type": "execute_result"
    },
    {
     "data": {
      "image/png": "[encoded data removed]",
      "text/plain": [
       "<Figure size 432x288 with 1 Axes>"
      ]
     },
     "metadata": {
      "needs_background": "light"
     },
     "output_type": "display_data"
    }
   ],
   "source": [
    "plt.scatter(x = rfm['R'], y = rfm['F'])\n",
    "plt.xlabel('Recency')\n",
    "plt.ylabel('Frequency')\n",
    "plt.title('Scatter plot of Recency and Frequency')"
   ]
  },
  {
   "cell_type": "code",
   "execution_count": 60,
   "id": "87839b68",
   "metadata": {},
   "outputs": [
    {
     "data": {
      "text/plain": [
       "Text(0.5, 1.0, 'Scatter plot of Recency and Monetary')"
      ]
     },
     "execution_count": 60,
     "metadata": {},
     "output_type": "execute_result"
    },
    {
     "data": {
      "image/png": "[encoded data removed]",
      "text/plain": [
       "<Figure size 432x288 with 1 Axes>"
      ]
     },
     "metadata": {
      "needs_background": "light"
     },
     "output_type": "display_data"
    }
   ],
   "source": [
    "plt.scatter(x = rfm['R'], y = rfm['M'])\n",
    "plt.xlabel('Recency')\n",
    "plt.ylabel('Monetary')\n",
    "plt.title('Scatter plot of Recency and Monetary')"
   ]
  },
  {
   "cell_type": "code",
   "execution_count": 33,
   "id": "4026f322",
   "metadata": {},
   "outputs": [
    {
     "data": {
      "text/plain": [
       "Text(0.5, 1.0, 'Scatter plot of Monetary and Frequency')"
      ]
     },
     "execution_count": 33,
     "metadata": {},
     "output_type": "execute_result"
    },
    {
     "data": {
      "image/png": "[encoded data removed]",
      "text/plain": [
       "<Figure size 432x288 with 1 Axes>"
      ]
     },
     "metadata": {
      "needs_background": "light"
     },
     "output_type": "display_data"
    }
   ],
   "source": [
    "plt.scatter(x = rfm['M'], y = rfm['F'])\n",
    "plt.xlabel('Monetary')\n",
    "plt.ylabel('Frequency')\n",
    "plt.title('Scatter plot of Monetary and Frequency')"
   ]
  },
  {
   "cell_type": "code",
   "execution_count": 37,
   "id": "5739d177",
   "metadata": {},
   "outputs": [
    {
     "data": {
      "text/plain": [
       "Text(0.5, 1.0, 'Scatter plot of MeanReviewScore and Monetary')"
      ]
     },
     "execution_count": 37,
     "metadata": {},
     "output_type": "execute_result"
    },
    {
     "data": {
      "image/png": "[encoded data removed]",
      "text/plain": [
       "<Figure size 432x288 with 1 Axes>"
      ]
     },
     "metadata": {
      "needs_background": "light"
     },
     "output_type": "display_data"
    }
   ],
   "source": [
    "plt.scatter(x = rfm['MeanReviewScore'], y = rfm['M'])\n",
    "plt.xlabel('MeanReviewScore')\n",
    "plt.ylabel('Monetary')\n",
    "plt.title('Scatter plot of MeanReviewScore and Monetary')"
   ]
  },
  {
   "cell_type": "code",
   "execution_count": 36,
   "id": "d7b22413",
   "metadata": {},
   "outputs": [
    {
     "data": {
      "text/plain": [
       "Text(0.5, 1.0, 'Scatter plot of MeanReviewScore and Recency')"
      ]
     },
     "execution_count": 36,
     "metadata": {},
     "output_type": "execute_result"
    },
    {
     "data": {
      "image/png": "[encoded data removed]",
      "text/plain": [
       "<Figure size 432x288 with 1 Axes>"
      ]
     },
     "metadata": {
      "needs_background": "light"
     },
     "output_type": "display_data"
    }
   ],
   "source": [
    "plt.scatter(x = rfm['MeanReviewScore'], y = rfm['R'])\n",
    "plt.xlabel('MeanReviewScore')\n",
    "plt.ylabel('Recency')\n",
    "plt.title('Scatter plot of MeanReviewScore and Recency')"
   ]
  },
  {
   "cell_type": "code",
   "execution_count": 38,
   "id": "ebea4348",
   "metadata": {},
   "outputs": [
    {
     "data": {
      "text/plain": [
       "Text(0.5, 1.0, 'Scatter plot of MeanReviewScore and Recency')"
      ]
     },
     "execution_count": 38,
     "metadata": {},
     "output_type": "execute_result"
    },
    {
     "data": {
      "image/png": "[encoded data removed]",
      "text/plain": [
       "<Figure size 432x288 with 1 Axes>"
      ]
     },
     "metadata": {
      "needs_background": "light"
     },
     "output_type": "display_data"
    }
   ],
   "source": [
    "plt.scatter(x = rfm['MeanReviewScore'], y = rfm['F'])\n",
    "plt.xlabel('MeanReviewScore')\n",
    "plt.ylabel('Frequency')\n",
    "plt.title('Scatter plot of MeanReviewScore and Recency')"
   ]
  },
  {
   "cell_type": "markdown",
   "id": "8b9b83d1",
   "metadata": {},
   "source": [
    "# Correlation study"
   ]
  },
  {
   "cell_type": "code",
   "execution_count": 52,
   "id": "44f0c5c8",
   "metadata": {},
   "outputs": [],
   "source": [
    "X = rfm.drop(['R','customer_unique_id','MaxSpentbyCustomers','product_weightMeanbyCustomer','order_purchase_timestamp'],axis=1)\n",
    "Y = rfm['R']"
   ]
  },
  {
   "cell_type": "code",
   "execution_count": 53,
   "id": "a7a9770c",
   "metadata": {},
   "outputs": [
    {
     "name": "stdout",
     "output_type": "stream",
     "text": [
      "Hypothesis : Recency variable and the variable F are not correlated\n",
      "Correlation coefficient (Recency and F):\n",
      "0.31995140438021885\n",
      "\n",
      "Hypothesis : Recency variable and the variable M are not correlated\n",
      "Correlation coefficient (Recency and M):\n",
      "0.10087509129704898\n",
      "\n",
      "Hypothesis : Recency variable and the variable MeanReviewScore are not correlated\n",
      "Correlation coefficient (Recency and MeanReviewScore):\n",
      "0.023790071087273032\n",
      "\n"
     ]
    }
   ],
   "source": [
    "for i in X.columns:\n",
    "    print(\"Hypothesis : Recency variable and the variable \"+i+\" are not correlated\\nCorrelation coefficient (Recency and \"+i+\"):\\n\"+str(stats.pearsonr(Y, X[i])[0])+\"\\n\")"
   ]
  },
  {
   "cell_type": "code",
   "execution_count": 54,
   "id": "225d835b",
   "metadata": {},
   "outputs": [],
   "source": [
    "X = rfm.drop(['F','customer_unique_id','MaxSpentbyCustomers','product_weightMeanbyCustomer','order_purchase_timestamp'],axis=1)\n",
    "Y = rfm['F']"
   ]
  },
  {
   "cell_type": "code",
   "execution_count": 55,
   "id": "fd4258e4",
   "metadata": {},
   "outputs": [
    {
     "name": "stdout",
     "output_type": "stream",
     "text": [
      "Hypothesis : Frequency variable and the variable R are not correlated\n",
      "Correlation coefficient (Frequency and R):\n",
      "0.31995140438021885\n",
      "\n",
      "Hypothesis : Frequency variable and the variable M are not correlated\n",
      "Correlation coefficient (Frequency and M):\n",
      "0.30802626558826596\n",
      "\n",
      "Hypothesis : Frequency variable and the variable MeanReviewScore are not correlated\n",
      "Correlation coefficient (Frequency and MeanReviewScore):\n",
      "-0.06783627230875966\n",
      "\n"
     ]
    }
   ],
   "source": [
    "for i in X.columns:\n",
    "    print(\"Hypothesis : Frequency variable and the variable \"+i+\" are not correlated\\nCorrelation coefficient (Frequency and \"+i+\"):\\n\"+str(stats.pearsonr(Y, X[i])[0])+\"\\n\")"
   ]
  },
  {
   "cell_type": "code",
   "execution_count": 56,
   "id": "691bc66a",
   "metadata": {},
   "outputs": [],
   "source": [
    "X = rfm.drop(['M','customer_unique_id','MaxSpentbyCustomers','product_weightMeanbyCustomer','order_purchase_timestamp'],axis=1)\n",
    "Y = rfm['M']"
   ]
  },
  {
   "cell_type": "code",
   "execution_count": 57,
   "id": "d12671ec",
   "metadata": {},
   "outputs": [
    {
     "name": "stdout",
     "output_type": "stream",
     "text": [
      "Hypothesis : Monetary variable and the variable R are not correlated\n",
      "Correlation coefficient (Monetary and R):\n",
      "0.10087509129704898\n",
      "\n",
      "Hypothesis : Monetary variable and the variable F are not correlated\n",
      "Correlation coefficient (Monetary and F):\n",
      "0.30802626558826596\n",
      "\n",
      "Hypothesis : Monetary variable and the variable MeanReviewScore are not correlated\n",
      "Correlation coefficient (Monetary and MeanReviewScore):\n",
      "-0.03731013804617838\n",
      "\n"
     ]
    }
   ],
   "source": [
    "for i in X.columns:\n",
    "    print(\"Hypothesis : Monetary variable and the variable \"+i+\" are not correlated\\nCorrelation coefficient (Monetary and \"+i+\"):\\n\"+str(stats.pearsonr(Y, X[i])[0])+\"\\n\")"
   ]
  },
  {
   "cell_type": "code",
   "execution_count": 58,
   "id": "d64e391c",
   "metadata": {},
   "outputs": [],
   "source": [
    "X = rfm.drop(['MeanReviewScore','customer_unique_id','MaxSpentbyCustomers','product_weightMeanbyCustomer','order_purchase_timestamp'],axis=1)\n",
    "Y = rfm['MeanReviewScore']"
   ]
  },
  {
   "cell_type": "code",
   "execution_count": 59,
   "id": "58634ef5",
   "metadata": {},
   "outputs": [
    {
     "name": "stdout",
     "output_type": "stream",
     "text": [
      "Hypothesis : MeanReviewScore variable and the variable R are not correlated\n",
      "Correlation coefficient (MeanReviewScore and R):\n",
      "0.023790071087273032\n",
      "\n",
      "Hypothesis : MeanReviewScore variable and the variable F are not correlated\n",
      "Correlation coefficient (MeanReviewScore and F):\n",
      "-0.06783627230875966\n",
      "\n",
      "Hypothesis : MeanReviewScore variable and the variable M are not correlated\n",
      "Correlation coefficient (MeanReviewScore and M):\n",
      "-0.03731013804617838\n",
      "\n"
     ]
    }
   ],
   "source": [
    "for i in X.columns:\n",
    "    print(\"Hypothesis : MeanReviewScore variable and the variable \"+i+\" are not correlated\\nCorrelation coefficient (MeanReviewScore and \"+i+\"):\\n\"+str(stats.pearsonr(Y, X[i])[0])+\"\\n\")"
   ]
  },
  {
   "cell_type": "markdown",
   "id": "4d81f26c",
   "metadata": {},
   "source": [
    "# Data Maintenance"
   ]
  },
  {
   "cell_type": "markdown",
   "id": "c033fbfe",
   "metadata": {},
   "source": [
    "The maintenance analysis will focus on active client"
   ]
  },
  {
   "cell_type": "code",
   "execution_count": 344,
   "id": "60e7afee",
   "metadata": {},
   "outputs": [],
   "source": [
    "df_date = pd.merge(data_orders_dataset, data_customers[['customer_id','customer_unique_id']], on='customer_id', how='inner')"
   ]
  },
  {
   "cell_type": "code",
   "execution_count": 345,
   "id": "e7a40c24",
   "metadata": {},
   "outputs": [],
   "source": [
    "df_date_maintenance = df_date[['customer_unique_id','order_purchase_timestamp']]"
   ]
  },
  {
   "cell_type": "code",
   "execution_count": 346,
   "id": "f86909ce",
   "metadata": {},
   "outputs": [
    {
     "data": {
      "text/plain": [
       "customer_unique_id          0.0\n",
       "order_purchase_timestamp    0.0\n",
       "dtype: float64"
      ]
     },
     "execution_count": 346,
     "metadata": {},
     "output_type": "execute_result"
    }
   ],
   "source": [
    "df_date_maintenance.isna().mean()"
   ]
  },
  {
   "cell_type": "code",
   "execution_count": 347,
   "id": "d53f2b58",
   "metadata": {},
   "outputs": [],
   "source": [
    "rfm_final_maintenance = pd.merge(rfm, df_date_maintenance, on='customer_unique_id', how='inner')\n",
    "#rfm_final_maintenance = pd.merge(rfm_maintenance, df_date_maintenance, on='customer_unique_id', how='inner')"
   ]
  },
  {
   "cell_type": "code",
   "execution_count": 348,
   "id": "c4340780",
   "metadata": {},
   "outputs": [
    {
     "data": {
      "text/plain": [
       "customer_unique_id              0.0\n",
       "R                               0.0\n",
       "F                               0.0\n",
       "M                               0.0\n",
       "MaxSpentbyCustomers             0.0\n",
       "product_weightMeanbyCustomer    0.0\n",
       "MeanReviewScore                 0.0\n",
       "order_purchase_timestamp        0.0\n",
       "dtype: float64"
      ]
     },
     "execution_count": 348,
     "metadata": {},
     "output_type": "execute_result"
    }
   ],
   "source": [
    "rfm_final_maintenance.isna().mean()"
   ]
  },
  {
   "cell_type": "markdown",
   "id": "c81504c2",
   "metadata": {},
   "source": [
    "# Data Export"
   ]
  },
  {
   "cell_type": "code",
   "execution_count": 151,
   "id": "368cbaa1",
   "metadata": {},
   "outputs": [],
   "source": [
    "#rfm.to_csv(\"rfm.csv\", index=False)"
   ]
  },
  {
   "cell_type": "code",
   "execution_count": 350,
   "id": "5f87d0ea",
   "metadata": {},
   "outputs": [],
   "source": [
    "#rfm_final_maintenance.to_csv(\"rfm_final.csv\", index=False)"
   ]
  },
  {
   "cell_type": "code",
   "execution_count": 94,
   "id": "13c72fb7",
   "metadata": {},
   "outputs": [],
   "source": [
    "#df_all_filtered_final.to_csv(\"dataEcommerce.csv\", index=False)"
   ]
  }
 ],
 "metadata": {
  "kernelspec": {
   "display_name": "Python 3 (ipykernel)",
   "language": "python",
   "name": "python3"
  },
  "language_info": {
   "codemirror_mode": {
    "name": "ipython",
    "version": 3
   },
   "file_extension": ".py",
   "mimetype": "text/x-python",
   "name": "python",
   "nbconvert_exporter": "python",
   "pygments_lexer": "ipython3",
   "version": "3.9.7"
  }
 },
 "nbformat": 4,
 "nbformat_minor": 5
}
